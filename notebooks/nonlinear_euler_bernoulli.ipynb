{
 "cells": [
  {
   "cell_type": "markdown",
   "id": "b8b0eb40",
   "metadata": {},
   "source": [
    "Notebook to determine the nonlinear Euler-Bernoilli Beam Theory"
   ]
  },
  {
   "cell_type": "code",
   "execution_count": 2,
   "id": "1ca41949",
   "metadata": {},
   "outputs": [],
   "source": [
    "import sympy as sp\n",
    "from sympy import simplify\n",
    "\n",
    "x = sp.Symbol(\"x\")\n",
    "l = sp.Symbol(\"l\")\n",
    "A_xx = sp.Symbol(\"A_xx\")\n",
    "D_xx = sp.Symbol(\"D_xx\")\n",
    "u_1 = sp.Symbol(\"u_1\")\n",
    "u_2 = sp.Symbol(\"u_2\")\n",
    "u_3 = sp.Symbol(\"u_3\")\n",
    "w_1 = sp.Symbol(\"w_1\")\n",
    "w_2 = sp.Symbol(\"w_2\")\n",
    "w_3 = sp.Symbol(\"w_3\")\n",
    "Theta_1 = sp.Symbol(\"Theta_1\")\n",
    "Theta_2 = sp.Symbol(\"Theta_2\")\n",
    "Theta_3 = sp.Symbol(\"Theta_3\")\n",
    "\n",
    "psi_1 = 1-x/l\n",
    "psi_2 = x/l\n",
    "\n",
    "# Hermite cubic shape functions\n",
    "phi_1 = 1-3*(x/l)**2+2*(x/l)**3\n",
    "phi_2 = -l*(x/l)*(1-(x/l))**2\n",
    "phi_3 = 3*(x/l)**2-2*(x/l)**3\n",
    "phi_4 = -l*(x/l)*((x/l)**2-x/l)\n",
    "\n",
    "w = phi_1*w_1 + phi_2*Theta_1 + phi_3*w_2 + phi_4*Theta_2\n",
    "dwdx = sp.diff(w, x)"
   ]
  },
  {
   "cell_type": "code",
   "execution_count": 3,
   "id": "f5eb221f",
   "metadata": {},
   "outputs": [
    {
     "name": "stdout",
     "output_type": "stream",
     "text": [
      "psi_1 =  1 - x/l\n",
      "psi_2 =  x/l\n",
      "phi_1 =  1 - 3*x**2/l**2 + 2*x**3/l**3\n",
      "phi_2 =  -x*(1 - x/l)**2\n",
      "phi_3 =  3*x**2/l**2 - 2*x**3/l**3\n",
      "phi_4 =  -x*(-x/l + x**2/l**2)\n",
      "w =  -Theta_1*x*(1 - x/l)**2 - Theta_2*x*(-x/l + x**2/l**2) + w_1*(1 - 3*x**2/l**2 + 2*x**3/l**3) + w_2*(3*x**2/l**2 - 2*x**3/l**3)\n",
      "dwdx =  -Theta_1*(1 - x/l)**2 + 2*Theta_1*x*(1 - x/l)/l - Theta_2*x*(-1/l + 2*x/l**2) - Theta_2*(-x/l + x**2/l**2) + w_1*(-6*x/l**2 + 6*x**2/l**3) + w_2*(6*x/l**2 - 6*x**2/l**3)\n"
     ]
    }
   ],
   "source": [
    "print(\"psi_1 = \", psi_1)\n",
    "print(\"psi_2 = \", psi_2)\n",
    "print(\"phi_1 = \", phi_1)\n",
    "print(\"phi_2 = \", phi_2)\n",
    "print(\"phi_3 = \", phi_3)\n",
    "print(\"phi_4 = \", phi_4)\n",
    "print(\"w = \", w)\n",
    "print(\"dwdx = \", dwdx)"
   ]
  },
  {
   "cell_type": "code",
   "execution_count": 4,
   "id": "5e4877a3",
   "metadata": {},
   "outputs": [],
   "source": [
    "dpsi_1dx = psi_1.diff(x)\n",
    "dpsi_2dx = psi_2.diff(x)\n",
    "dphi_1dx = phi_1.diff(x)\n",
    "dphi_2dx = phi_2.diff(x)\n",
    "dphi_3dx = phi_3.diff(x)\n",
    "dphi_4dx = phi_4.diff(x)"
   ]
  },
  {
   "cell_type": "code",
   "execution_count": 5,
   "id": "49886f01",
   "metadata": {},
   "outputs": [
    {
     "name": "stdout",
     "output_type": "stream",
     "text": [
      "dpsi_1dx =  -1/l\n",
      "dpsi_2dx =  1/l\n",
      "dphi_1dx =  -6*x/l**2 + 6*x**2/l**3\n",
      "dphi_2dx =  -(1 - x/l)**2 + 2*x*(1 - x/l)/l\n",
      "dphi_3dx =  6*x/l**2 - 6*x**2/l**3\n",
      "dphi_4dx =  x*(2*l - 3*x)/l**2\n"
     ]
    }
   ],
   "source": [
    "print(\"dpsi_1dx = \", dpsi_1dx)\n",
    "print(\"dpsi_2dx = \", dpsi_2dx)\n",
    "print(\"dphi_1dx = \", dphi_1dx)\n",
    "print(\"dphi_2dx = \", dphi_2dx)\n",
    "print(\"dphi_3dx = \", dphi_3dx)\n",
    "print(\"dphi_4dx = \", simplify(dphi_4dx))"
   ]
  },
  {
   "cell_type": "code",
   "execution_count": 6,
   "id": "a5f2f093",
   "metadata": {},
   "outputs": [],
   "source": [
    "d2psi_1dx2 = dpsi_1dx.diff(x)\n",
    "d2psi_2dx2 = dpsi_2dx.diff(x)\n",
    "d2phi_1dx2 = dphi_1dx.diff(x)\n",
    "d2phi_2dx2 = dphi_2dx.diff(x)\n",
    "d2phi_3dx2 = dphi_3dx.diff(x)\n",
    "d2phi_4dx2 = dphi_4dx.diff(x)"
   ]
  },
  {
   "cell_type": "code",
   "execution_count": 7,
   "id": "ca5eba8d",
   "metadata": {},
   "outputs": [
    {
     "name": "stdout",
     "output_type": "stream",
     "text": [
      "d2phi_1dx2 =  -6/l**2 + 12*x/l**3\n",
      "d2phi_2dx2 =  4*(1 - x/l)/l - 2*x/l**2\n",
      "d2phi_3dx2 =  6/l**2 - 12*x/l**3\n",
      "d2phi_4dx2 =  2/l - 6*x/l**2\n"
     ]
    }
   ],
   "source": [
    "print(\"d2phi_1dx2 = \", d2phi_1dx2)\n",
    "print(\"d2phi_2dx2 = \", d2phi_2dx2)\n",
    "print(\"d2phi_3dx2 = \", d2phi_3dx2)\n",
    "print(\"d2phi_4dx2 = \", d2phi_4dx2)"
   ]
  },
  {
   "cell_type": "code",
   "execution_count": 8,
   "id": "8725d7be",
   "metadata": {},
   "outputs": [],
   "source": [
    "K11_11 = sp.integrate(A_xx*dpsi_1dx**2, (x, 0, l))\n",
    "K11_12 = sp.integrate(A_xx*dpsi_1dx*dpsi_2dx, (x, 0, l))\n",
    "K11_21 = sp.integrate(A_xx*dpsi_2dx*dpsi_1dx, (x, 0, l))\n",
    "K11_22 = sp.integrate(A_xx*dpsi_2dx**2, (x, 0, l))"
   ]
  },
  {
   "cell_type": "code",
   "execution_count": 9,
   "id": "684733c6",
   "metadata": {},
   "outputs": [
    {
     "name": "stdout",
     "output_type": "stream",
     "text": [
      "K11_11 =  A_xx/l\n",
      "K11_12 =  -A_xx/l\n",
      "K11_21 =  -A_xx/l\n",
      "K11_22 =  A_xx/l\n"
     ]
    }
   ],
   "source": [
    "print(\"K11_11 = \", K11_11)\n",
    "print(\"K11_12 = \", K11_12)\n",
    "print(\"K11_21 = \", K11_21)\n",
    "print(\"K11_22 = \", K11_22)"
   ]
  },
  {
   "cell_type": "code",
   "execution_count": 10,
   "id": "9bc8b1d9",
   "metadata": {},
   "outputs": [],
   "source": [
    "K12_11 = sp.integrate(0.5*A_xx*dwdx*dpsi_1dx*dphi_1dx, (x, 0, l))\n",
    "K12_12 = sp.integrate(0.5*A_xx*dwdx*dpsi_1dx*dphi_2dx, (x, 0, l))\n",
    "K12_13 = sp.integrate(0.5*A_xx*dwdx*dpsi_1dx*dphi_3dx, (x, 0, l))\n",
    "K12_14 = sp.integrate(0.5*A_xx*dwdx*dpsi_1dx*dphi_4dx, (x, 0, l))\n",
    "K12_21 = sp.integrate(0.5*A_xx*dwdx*dpsi_2dx*dphi_1dx, (x, 0, l))\n",
    "K12_22 = sp.integrate(0.5*A_xx*dwdx*dpsi_2dx*dphi_2dx, (x, 0, l))\n",
    "K12_23 = sp.integrate(0.5*A_xx*dwdx*dpsi_2dx*dphi_3dx, (x, 0, l))\n",
    "K12_24 = sp.integrate(0.5*A_xx*dwdx*dpsi_2dx*dphi_4dx, (x, 0, l))"
   ]
  },
  {
   "cell_type": "code",
   "execution_count": 11,
   "id": "7058e584",
   "metadata": {},
   "outputs": [
    {
     "name": "stdout",
     "output_type": "stream",
     "text": [
      "K12_11 =  -1.5*A_xx*Theta_1/l + 0.25*(-21.0*A_xx*Theta_1*l - 15.0*A_xx*Theta_2*l + 36.0*A_xx*w_1 - 36.0*A_xx*w_2)/l**2 + 0.2*(9.0*A_xx*Theta_1*l + 9.0*A_xx*Theta_2*l - 18.0*A_xx*w_1 + 18.0*A_xx*w_2)/l**2 + 0.333333333333333*(15.0*A_xx*Theta_1*l + 6.0*A_xx*Theta_2*l - 18.0*A_xx*w_1 + 18.0*A_xx*w_2)/l**2\n",
      "K12_12 =  -0.5*A_xx*Theta_1 + 0.333333333333333*(-11.0*A_xx*Theta_1*l - 5.5*A_xx*Theta_2*l + 15.0*A_xx*w_1 - 15.0*A_xx*w_2)/l + 0.2*(-4.5*A_xx*Theta_1*l - 4.5*A_xx*Theta_2*l + 9.0*A_xx*w_1 - 9.0*A_xx*w_2)/l + 0.5*(4.0*A_xx*Theta_1*l + 1.0*A_xx*Theta_2*l - 3.0*A_xx*w_1 + 3.0*A_xx*w_2)/l + 0.25*(12.0*A_xx*Theta_1*l + 9.0*A_xx*Theta_2*l - 21.0*A_xx*w_1 + 21.0*A_xx*w_2)/l\n",
      "K12_13 =  1.5*A_xx*Theta_1/l + 0.333333333333333*(-15.0*A_xx*Theta_1*l - 6.0*A_xx*Theta_2*l + 18.0*A_xx*w_1 - 18.0*A_xx*w_2)/l**2 + 0.2*(-9.0*A_xx*Theta_1*l - 9.0*A_xx*Theta_2*l + 18.0*A_xx*w_1 - 18.0*A_xx*w_2)/l**2 + 0.25*(21.0*A_xx*Theta_1*l + 15.0*A_xx*Theta_2*l - 36.0*A_xx*w_1 + 36.0*A_xx*w_2)/l**2\n",
      "K12_14 =  0.5*A_xx*Theta_1 + 0.333333333333333*(-5.5*A_xx*Theta_1*l - 2.0*A_xx*Theta_2*l + 6.0*A_xx*w_1 - 6.0*A_xx*w_2)/l + 0.2*(-4.5*A_xx*Theta_1*l - 4.5*A_xx*Theta_2*l + 9.0*A_xx*w_1 - 9.0*A_xx*w_2)/l + 0.25*(9.0*A_xx*Theta_1*l + 6.0*A_xx*Theta_2*l - 15.0*A_xx*w_1 + 15.0*A_xx*w_2)/l\n",
      "K12_21 =  1.5*A_xx*Theta_1/l + 0.333333333333333*(-15.0*A_xx*Theta_1*l - 6.0*A_xx*Theta_2*l + 18.0*A_xx*w_1 - 18.0*A_xx*w_2)/l**2 + 0.2*(-9.0*A_xx*Theta_1*l - 9.0*A_xx*Theta_2*l + 18.0*A_xx*w_1 - 18.0*A_xx*w_2)/l**2 + 0.25*(21.0*A_xx*Theta_1*l + 15.0*A_xx*Theta_2*l - 36.0*A_xx*w_1 + 36.0*A_xx*w_2)/l**2\n",
      "K12_22 =  0.5*A_xx*Theta_1 + 0.25*(-12.0*A_xx*Theta_1*l - 9.0*A_xx*Theta_2*l + 21.0*A_xx*w_1 - 21.0*A_xx*w_2)/l + 0.5*(-4.0*A_xx*Theta_1*l - 1.0*A_xx*Theta_2*l + 3.0*A_xx*w_1 - 3.0*A_xx*w_2)/l + 0.2*(4.5*A_xx*Theta_1*l + 4.5*A_xx*Theta_2*l - 9.0*A_xx*w_1 + 9.0*A_xx*w_2)/l + 0.333333333333333*(11.0*A_xx*Theta_1*l + 5.5*A_xx*Theta_2*l - 15.0*A_xx*w_1 + 15.0*A_xx*w_2)/l\n",
      "K12_23 =  -1.5*A_xx*Theta_1/l + 0.25*(-21.0*A_xx*Theta_1*l - 15.0*A_xx*Theta_2*l + 36.0*A_xx*w_1 - 36.0*A_xx*w_2)/l**2 + 0.2*(9.0*A_xx*Theta_1*l + 9.0*A_xx*Theta_2*l - 18.0*A_xx*w_1 + 18.0*A_xx*w_2)/l**2 + 0.333333333333333*(15.0*A_xx*Theta_1*l + 6.0*A_xx*Theta_2*l - 18.0*A_xx*w_1 + 18.0*A_xx*w_2)/l**2\n",
      "K12_24 =  -0.5*A_xx*Theta_1 + 0.25*(-9.0*A_xx*Theta_1*l - 6.0*A_xx*Theta_2*l + 15.0*A_xx*w_1 - 15.0*A_xx*w_2)/l + 0.2*(4.5*A_xx*Theta_1*l + 4.5*A_xx*Theta_2*l - 9.0*A_xx*w_1 + 9.0*A_xx*w_2)/l + 0.333333333333333*(5.5*A_xx*Theta_1*l + 2.0*A_xx*Theta_2*l - 6.0*A_xx*w_1 + 6.0*A_xx*w_2)/l\n"
     ]
    }
   ],
   "source": [
    "print(\"K12_11 = \", K12_11)\n",
    "print(\"K12_12 = \", K12_12)\n",
    "print(\"K12_13 = \", K12_13)\n",
    "print(\"K12_14 = \", K12_14)\n",
    "print(\"K12_21 = \", K12_21)\n",
    "print(\"K12_22 = \", K12_22)\n",
    "print(\"K12_23 = \", K12_23)\n",
    "print(\"K12_24 = \", K12_24)"
   ]
  },
  {
   "cell_type": "code",
   "execution_count": 12,
   "id": "7c5070f0",
   "metadata": {},
   "outputs": [],
   "source": [
    "K21_11 = sp.integrate(A_xx*dwdx*dphi_1dx*dpsi_1dx, (x, 0, l))\n",
    "K21_21 = sp.integrate(A_xx*dwdx*dphi_2dx*dpsi_1dx, (x, 0, l))\n",
    "K21_31 = sp.integrate(A_xx*dwdx*dphi_3dx*dpsi_1dx, (x, 0, l))\n",
    "K21_41 = sp.integrate(A_xx*dwdx*dphi_4dx*dpsi_1dx, (x, 0, l))\n",
    "K21_12 = sp.integrate(A_xx*dwdx*dphi_1dx*dpsi_2dx, (x, 0, l))\n",
    "K21_22 = sp.integrate(A_xx*dwdx*dphi_2dx*dpsi_2dx, (x, 0, l))\n",
    "K21_32 = sp.integrate(A_xx*dwdx*dphi_3dx*dpsi_2dx, (x, 0, l))\n",
    "K21_42 = sp.integrate(A_xx*dwdx*dphi_4dx*dpsi_2dx, (x, 0, l))"
   ]
  },
  {
   "cell_type": "code",
   "execution_count": 13,
   "id": "cbc7b036",
   "metadata": {},
   "outputs": [
    {
     "name": "stdout",
     "output_type": "stream",
     "text": [
      "K21_11 =  -3*A_xx*Theta_1/l + (-21*A_xx*Theta_1*l - 15*A_xx*Theta_2*l + 36*A_xx*w_1 - 36*A_xx*w_2)/(2*l**2) + (10*A_xx*Theta_1*l + 4*A_xx*Theta_2*l - 12*A_xx*w_1 + 12*A_xx*w_2)/l**2 + (18*A_xx*Theta_1*l + 18*A_xx*Theta_2*l - 36*A_xx*w_1 + 36*A_xx*w_2)/(5*l**2)\n",
      "K21_21 =  -A_xx*Theta_1 + (-22*A_xx*Theta_1*l - 11*A_xx*Theta_2*l + 30*A_xx*w_1 - 30*A_xx*w_2)/(3*l) + (-9*A_xx*Theta_1*l - 9*A_xx*Theta_2*l + 18*A_xx*w_1 - 18*A_xx*w_2)/(5*l) + (4*A_xx*Theta_1*l + A_xx*Theta_2*l - 3*A_xx*w_1 + 3*A_xx*w_2)/l + (12*A_xx*Theta_1*l + 9*A_xx*Theta_2*l - 21*A_xx*w_1 + 21*A_xx*w_2)/(2*l)\n",
      "K21_31 =  3*A_xx*Theta_1/l + (-18*A_xx*Theta_1*l - 18*A_xx*Theta_2*l + 36*A_xx*w_1 - 36*A_xx*w_2)/(5*l**2) + (-10*A_xx*Theta_1*l - 4*A_xx*Theta_2*l + 12*A_xx*w_1 - 12*A_xx*w_2)/l**2 + (21*A_xx*Theta_1*l + 15*A_xx*Theta_2*l - 36*A_xx*w_1 + 36*A_xx*w_2)/(2*l**2)\n",
      "K21_41 =  A_xx*Theta_1 + (-11*A_xx*Theta_1*l - 4*A_xx*Theta_2*l + 12*A_xx*w_1 - 12*A_xx*w_2)/(3*l) + (-9*A_xx*Theta_1*l - 9*A_xx*Theta_2*l + 18*A_xx*w_1 - 18*A_xx*w_2)/(5*l) + (9*A_xx*Theta_1*l + 6*A_xx*Theta_2*l - 15*A_xx*w_1 + 15*A_xx*w_2)/(2*l)\n",
      "K21_22 =  A_xx*Theta_1 + (-12*A_xx*Theta_1*l - 9*A_xx*Theta_2*l + 21*A_xx*w_1 - 21*A_xx*w_2)/(2*l) + (-4*A_xx*Theta_1*l - A_xx*Theta_2*l + 3*A_xx*w_1 - 3*A_xx*w_2)/l + (9*A_xx*Theta_1*l + 9*A_xx*Theta_2*l - 18*A_xx*w_1 + 18*A_xx*w_2)/(5*l) + (22*A_xx*Theta_1*l + 11*A_xx*Theta_2*l - 30*A_xx*w_1 + 30*A_xx*w_2)/(3*l)\n",
      "K21_32 =  -3*A_xx*Theta_1/l + (-21*A_xx*Theta_1*l - 15*A_xx*Theta_2*l + 36*A_xx*w_1 - 36*A_xx*w_2)/(2*l**2) + (10*A_xx*Theta_1*l + 4*A_xx*Theta_2*l - 12*A_xx*w_1 + 12*A_xx*w_2)/l**2 + (18*A_xx*Theta_1*l + 18*A_xx*Theta_2*l - 36*A_xx*w_1 + 36*A_xx*w_2)/(5*l**2)\n",
      "K21_42 =  -A_xx*Theta_1 + (-9*A_xx*Theta_1*l - 6*A_xx*Theta_2*l + 15*A_xx*w_1 - 15*A_xx*w_2)/(2*l) + (9*A_xx*Theta_1*l + 9*A_xx*Theta_2*l - 18*A_xx*w_1 + 18*A_xx*w_2)/(5*l) + (11*A_xx*Theta_1*l + 4*A_xx*Theta_2*l - 12*A_xx*w_1 + 12*A_xx*w_2)/(3*l)\n"
     ]
    }
   ],
   "source": [
    "print(\"K21_11 = \", K21_11)\n",
    "print(\"K21_21 = \", K21_21)\n",
    "print(\"K21_31 = \", K21_31)\n",
    "print(\"K21_41 = \", K21_41)\n",
    "print(\"K21_22 = \", K21_22)\n",
    "print(\"K21_32 = \", K21_32)\n",
    "print(\"K21_42 = \", K21_42)"
   ]
  },
  {
   "cell_type": "code",
   "execution_count": 14,
   "id": "682e41d6",
   "metadata": {},
   "outputs": [],
   "source": [
    "K22_11 = sp.integrate(D_xx*d2phi_1dx2*d2phi_1dx2, (x, 0, l))+0.5*sp.integrate(A_xx*dwdx**2*dphi_1dx*dphi_1dx, (x, 0, l))\n",
    "K22_12 = sp.integrate(D_xx*d2phi_1dx2*d2phi_2dx2, (x, 0, l))+0.5*sp.integrate(A_xx*dwdx**2*dphi_1dx*dphi_2dx, (x, 0, l))\n",
    "K22_13 = sp.integrate(D_xx*d2phi_1dx2*d2phi_3dx2, (x, 0, l))+0.5*sp.integrate(A_xx*dwdx**2*dphi_1dx*dphi_3dx, (x, 0, l))\n",
    "K22_14 = sp.integrate(D_xx*d2phi_1dx2*d2phi_4dx2, (x, 0, l))+0.5*sp.integrate(A_xx*dwdx**2*dphi_1dx*dphi_4dx, (x, 0, l))\n",
    "K22_21 = sp.integrate(D_xx*d2phi_2dx2*d2phi_1dx2, (x, 0, l))+0.5*sp.integrate(A_xx*dwdx**2*dphi_2dx*dphi_1dx, (x, 0, l))\n",
    "K22_22 = sp.integrate(D_xx*d2phi_2dx2*d2phi_2dx2, (x, 0, l))+0.5*sp.integrate(A_xx*dwdx**2*dphi_2dx*dphi_2dx, (x, 0, l))\n",
    "K22_23 = sp.integrate(D_xx*d2phi_2dx2*d2phi_3dx2, (x, 0, l))+0.5*sp.integrate(A_xx*dwdx**2*dphi_2dx*dphi_3dx, (x, 0, l))\n",
    "K22_24 = sp.integrate(D_xx*d2phi_2dx2*d2phi_4dx2, (x, 0, l))+0.5*sp.integrate(A_xx*dwdx**2*dphi_2dx*dphi_4dx, (x, 0, l))\n",
    "K22_31 = sp.integrate(D_xx*d2phi_3dx2*d2phi_1dx2, (x, 0, l))+0.5*sp.integrate(A_xx*dwdx**2*dphi_3dx*dphi_1dx, (x, 0, l))\n",
    "K22_32 = sp.integrate(D_xx*d2phi_3dx2*d2phi_2dx2, (x, 0, l))+0.5*sp.integrate(A_xx*dwdx**2*dphi_3dx*dphi_2dx, (x, 0, l))\n",
    "K22_33 = sp.integrate(D_xx*d2phi_3dx2*d2phi_3dx2, (x, 0, l))+0.5*sp.integrate(A_xx*dwdx**2*dphi_3dx*dphi_3dx, (x, 0, l))\n",
    "K22_34 = sp.integrate(D_xx*d2phi_3dx2*d2phi_4dx2, (x, 0, l))+0.5*sp.integrate(A_xx*dwdx**2*dphi_3dx*dphi_4dx, (x, 0, l))\n",
    "K22_41 = sp.integrate(D_xx*d2phi_4dx2*d2phi_1dx2, (x, 0, l))+0.5*sp.integrate(A_xx*dwdx**2*dphi_4dx*dphi_1dx, (x, 0, l))\n",
    "K22_42 = sp.integrate(D_xx*d2phi_4dx2*d2phi_2dx2, (x, 0, l))+0.5*sp.integrate(A_xx*dwdx**2*dphi_4dx*dphi_2dx, (x, 0, l))\n",
    "K22_43 = sp.integrate(D_xx*d2phi_4dx2*d2phi_3dx2, (x, 0, l))+0.5*sp.integrate(A_xx*dwdx**2*dphi_4dx*dphi_3dx, (x, 0, l))\n",
    "K22_44 = sp.integrate(D_xx*d2phi_4dx2*d2phi_4dx2, (x, 0, l))+0.5*sp.integrate(A_xx*dwdx**2*dphi_4dx*dphi_4dx, (x, 0, l))"
   ]
  },
  {
   "cell_type": "code",
   "execution_count": 15,
   "id": "05248314",
   "metadata": {},
   "outputs": [
    {
     "name": "stdout",
     "output_type": "stream",
     "text": [
      "K22_11 =  6.0*A_xx*Theta_1**2/l + 12*D_xx/l**3 + 0.5*(-90*A_xx*Theta_1**2*l - 36*A_xx*Theta_1*Theta_2*l + 108*A_xx*Theta_1*w_1 - 108*A_xx*Theta_1*w_2)/l**2 + 0.5*(-456*A_xx*Theta_1**2*l**2 - 504*A_xx*Theta_1*Theta_2*l**2 + 1296*A_xx*Theta_1*l*w_1 - 1296*A_xx*Theta_1*l*w_2 - 120*A_xx*Theta_2**2*l**2 + 648*A_xx*Theta_2*l*w_1 - 648*A_xx*Theta_2*l*w_2 - 864*A_xx*w_1**2 + 1728*A_xx*w_1*w_2 - 864*A_xx*w_2**2)/l**3 + 0.5*(-189*A_xx*Theta_1**2*l**2 - 324*A_xx*Theta_1*Theta_2*l**2 + 702*A_xx*Theta_1*l*w_1 - 702*A_xx*Theta_1*l*w_2 - 135*A_xx*Theta_2**2*l**2 + 594*A_xx*Theta_2*l*w_1 - 594*A_xx*Theta_2*l*w_2 - 648*A_xx*w_1**2 + 1296*A_xx*w_1*w_2 - 648*A_xx*w_2**2)/l**3 + 0.5*(36*A_xx*Theta_1**2*l**2 + 72*A_xx*Theta_1*Theta_2*l**2 - 144*A_xx*Theta_1*l*w_1 + 144*A_xx*Theta_1*l*w_2 + 36*A_xx*Theta_2**2*l**2 - 144*A_xx*Theta_2*l*w_1 + 144*A_xx*Theta_2*l*w_2 + 144*A_xx*w_1**2 - 288*A_xx*w_1*w_2 + 144*A_xx*w_2**2)/l**3 + 0.1*(1404*A_xx*Theta_1**2*l**2 + 1080*A_xx*Theta_1*Theta_2*l**2 - 3024*A_xx*Theta_1*l*w_1 + 3024*A_xx*Theta_1*l*w_2 + 144*A_xx*Theta_2**2*l**2 - 864*A_xx*Theta_2*l*w_1 + 864*A_xx*Theta_2*l*w_2 + 1296*A_xx*w_1**2 - 2592*A_xx*w_1*w_2 + 1296*A_xx*w_2**2)/l**3 + 0.0714285714285714*(2844*A_xx*Theta_1**2*l**2 + 4032*A_xx*Theta_1*Theta_2*l**2 - 9504*A_xx*Theta_1*l*w_1 + 9504*A_xx*Theta_1*l*w_2 + 1332*A_xx*Theta_2**2*l**2 - 6480*A_xx*Theta_2*l*w_1 + 6480*A_xx*Theta_2*l*w_2 + 7776*A_xx*w_1**2 - 15552*A_xx*w_1*w_2 + 7776*A_xx*w_2**2)/l**3\n",
      "K22_12 =  1.5*A_xx*Theta_1**2 - 6*D_xx/l**2 + 0.5*(-26*A_xx*Theta_1**2*l - 8*A_xx*Theta_1*Theta_2*l + 24*A_xx*Theta_1*w_1 - 24*A_xx*Theta_1*w_2)/l + 0.0714285714285714*(-1674*A_xx*Theta_1**2*l**2 - 2448*A_xx*Theta_1*Theta_2*l**2 + 5688*A_xx*Theta_1*l*w_1 - 5688*A_xx*Theta_1*l*w_2 - 846*A_xx*Theta_2**2*l**2 + 4032*A_xx*Theta_2*l*w_1 - 4032*A_xx*Theta_2*l*w_2 - 4752*A_xx*w_1**2 + 9504*A_xx*w_1*w_2 - 4752*A_xx*w_2**2)/l**2 + 0.1*(-1158*A_xx*Theta_1**2*l**2 - 1044*A_xx*Theta_1*Theta_2*l**2 + 2808*A_xx*Theta_1*l*w_1 - 2808*A_xx*Theta_1*l*w_2 - 192*A_xx*Theta_2**2*l**2 + 1080*A_xx*Theta_2*l*w_1 - 1080*A_xx*Theta_2*l*w_2 - 1512*A_xx*w_1**2 + 3024*A_xx*w_1*w_2 - 1512*A_xx*w_2**2)/l**2 + 0.5*(-18*A_xx*Theta_1**2*l**2 - 36*A_xx*Theta_1*Theta_2*l**2 + 72*A_xx*Theta_1*l*w_1 - 72*A_xx*Theta_1*l*w_2 - 18*A_xx*Theta_2**2*l**2 + 72*A_xx*Theta_2*l*w_1 - 72*A_xx*Theta_2*l*w_2 - 72*A_xx*w_1**2 + 144*A_xx*w_1*w_2 - 72*A_xx*w_2**2)/l**2 + 0.25*(207*A_xx*Theta_1**2*l**2 + 126*A_xx*Theta_1*Theta_2*l**2 - 360*A_xx*Theta_1*l*w_1 + 360*A_xx*Theta_1*l*w_2 + 12*A_xx*Theta_2**2*l**2 - 72*A_xx*Theta_2*l*w_1 + 72*A_xx*Theta_2*l*w_2 + 108*A_xx*w_1**2 - 216*A_xx*w_1*w_2 + 108*A_xx*w_2**2)/l**2 + 0.5*(307*A_xx*Theta_1**2*l**2 + 364*A_xx*Theta_1*Theta_2*l**2 - 912*A_xx*Theta_1*l*w_1 + 912*A_xx*Theta_1*l*w_2 + 97*A_xx*Theta_2**2*l**2 - 504*A_xx*Theta_2*l*w_1 + 504*A_xx*Theta_2*l*w_2 + 648*A_xx*w_1**2 - 1296*A_xx*w_1*w_2 + 648*A_xx*w_2**2)/l**2 + 0.125*(405*A_xx*Theta_1**2*l**2 + 702*A_xx*Theta_1*Theta_2*l**2 - 1512*A_xx*Theta_1*l*w_1 + 1512*A_xx*Theta_1*l*w_2 + 297*A_xx*Theta_2**2*l**2 - 1296*A_xx*Theta_2*l*w_1 + 1296*A_xx*Theta_2*l*w_2 + 1404*A_xx*w_1**2 - 2808*A_xx*w_1*w_2 + 1404*A_xx*w_2**2)/l**2\n",
      "K22_13 =  -6.0*A_xx*Theta_1**2/l - 12*D_xx/l**3 + 0.5*(90*A_xx*Theta_1**2*l + 36*A_xx*Theta_1*Theta_2*l - 108*A_xx*Theta_1*w_1 + 108*A_xx*Theta_1*w_2)/l**2 + 0.0714285714285714*(-2844*A_xx*Theta_1**2*l**2 - 4032*A_xx*Theta_1*Theta_2*l**2 + 9504*A_xx*Theta_1*l*w_1 - 9504*A_xx*Theta_1*l*w_2 - 1332*A_xx*Theta_2**2*l**2 + 6480*A_xx*Theta_2*l*w_1 - 6480*A_xx*Theta_2*l*w_2 - 7776*A_xx*w_1**2 + 15552*A_xx*w_1*w_2 - 7776*A_xx*w_2**2)/l**3 + 0.1*(-1404*A_xx*Theta_1**2*l**2 - 1080*A_xx*Theta_1*Theta_2*l**2 + 3024*A_xx*Theta_1*l*w_1 - 3024*A_xx*Theta_1*l*w_2 - 144*A_xx*Theta_2**2*l**2 + 864*A_xx*Theta_2*l*w_1 - 864*A_xx*Theta_2*l*w_2 - 1296*A_xx*w_1**2 + 2592*A_xx*w_1*w_2 - 1296*A_xx*w_2**2)/l**3 + 0.5*(-36*A_xx*Theta_1**2*l**2 - 72*A_xx*Theta_1*Theta_2*l**2 + 144*A_xx*Theta_1*l*w_1 - 144*A_xx*Theta_1*l*w_2 - 36*A_xx*Theta_2**2*l**2 + 144*A_xx*Theta_2*l*w_1 - 144*A_xx*Theta_2*l*w_2 - 144*A_xx*w_1**2 + 288*A_xx*w_1*w_2 - 144*A_xx*w_2**2)/l**3 + 0.5*(189*A_xx*Theta_1**2*l**2 + 324*A_xx*Theta_1*Theta_2*l**2 - 702*A_xx*Theta_1*l*w_1 + 702*A_xx*Theta_1*l*w_2 + 135*A_xx*Theta_2**2*l**2 - 594*A_xx*Theta_2*l*w_1 + 594*A_xx*Theta_2*l*w_2 + 648*A_xx*w_1**2 - 1296*A_xx*w_1*w_2 + 648*A_xx*w_2**2)/l**3 + 0.5*(456*A_xx*Theta_1**2*l**2 + 504*A_xx*Theta_1*Theta_2*l**2 - 1296*A_xx*Theta_1*l*w_1 + 1296*A_xx*Theta_1*l*w_2 + 120*A_xx*Theta_2**2*l**2 - 648*A_xx*Theta_2*l*w_1 + 648*A_xx*Theta_2*l*w_2 + 864*A_xx*w_1**2 - 1728*A_xx*w_1*w_2 + 864*A_xx*w_2**2)/l**3\n",
      "K22_14 =  -2.0*A_xx*Theta_1**2 - 6*D_xx/l**2 + 0.25*(63*A_xx*Theta_1**2*l + 24*A_xx*Theta_1*Theta_2*l - 72*A_xx*Theta_1*w_1 + 72*A_xx*Theta_1*w_2)/l + 0.0714285714285714*(-1224*A_xx*Theta_1**2*l**2 - 1692*A_xx*Theta_1*Theta_2*l**2 + 4032*A_xx*Theta_1*l*w_1 - 4032*A_xx*Theta_1*l*w_2 - 540*A_xx*Theta_2**2*l**2 + 2664*A_xx*Theta_2*l*w_1 - 2664*A_xx*Theta_2*l*w_2 - 3240*A_xx*w_1**2 + 6480*A_xx*w_1*w_2 - 3240*A_xx*w_2**2)/l**2 + 0.1*(-522*A_xx*Theta_1**2*l**2 - 384*A_xx*Theta_1*Theta_2*l**2 + 1080*A_xx*Theta_1*l*w_1 - 1080*A_xx*Theta_1*l*w_2 - 48*A_xx*Theta_2**2*l**2 + 288*A_xx*Theta_2*l*w_1 - 288*A_xx*Theta_2*l*w_2 - 432*A_xx*w_1**2 + 864*A_xx*w_1*w_2 - 432*A_xx*w_2**2)/l**2 + 0.5*(-18*A_xx*Theta_1**2*l**2 - 36*A_xx*Theta_1*Theta_2*l**2 + 72*A_xx*Theta_1*l*w_1 - 72*A_xx*Theta_1*l*w_2 - 18*A_xx*Theta_2**2*l**2 + 72*A_xx*Theta_2*l*w_1 - 72*A_xx*Theta_2*l*w_2 - 72*A_xx*w_1**2 + 144*A_xx*w_1*w_2 - 72*A_xx*w_2**2)/l**2 + 0.5*(182*A_xx*Theta_1**2*l**2 + 194*A_xx*Theta_1*Theta_2*l**2 - 504*A_xx*Theta_1*l*w_1 + 504*A_xx*Theta_1*l*w_2 + 44*A_xx*Theta_2**2*l**2 - 240*A_xx*Theta_2*l*w_1 + 240*A_xx*Theta_2*l*w_2 + 324*A_xx*w_1**2 - 648*A_xx*w_1*w_2 + 324*A_xx*w_2**2)/l**2 + 0.125*(351*A_xx*Theta_1**2*l**2 + 594*A_xx*Theta_1*Theta_2*l**2 - 1296*A_xx*Theta_1*l*w_1 + 1296*A_xx*Theta_1*l*w_2 + 243*A_xx*Theta_2**2*l**2 - 1080*A_xx*Theta_2*l*w_1 + 1080*A_xx*Theta_2*l*w_2 + 1188*A_xx*w_1**2 - 2376*A_xx*w_1*w_2 + 1188*A_xx*w_2**2)/l**2\n",
      "K22_21 =  1.5*A_xx*Theta_1**2 - 6*D_xx/l**2 + 0.5*(-26*A_xx*Theta_1**2*l - 8*A_xx*Theta_1*Theta_2*l + 24*A_xx*Theta_1*w_1 - 24*A_xx*Theta_1*w_2)/l + 0.0714285714285714*(-1674*A_xx*Theta_1**2*l**2 - 2448*A_xx*Theta_1*Theta_2*l**2 + 5688*A_xx*Theta_1*l*w_1 - 5688*A_xx*Theta_1*l*w_2 - 846*A_xx*Theta_2**2*l**2 + 4032*A_xx*Theta_2*l*w_1 - 4032*A_xx*Theta_2*l*w_2 - 4752*A_xx*w_1**2 + 9504*A_xx*w_1*w_2 - 4752*A_xx*w_2**2)/l**2 + 0.1*(-1158*A_xx*Theta_1**2*l**2 - 1044*A_xx*Theta_1*Theta_2*l**2 + 2808*A_xx*Theta_1*l*w_1 - 2808*A_xx*Theta_1*l*w_2 - 192*A_xx*Theta_2**2*l**2 + 1080*A_xx*Theta_2*l*w_1 - 1080*A_xx*Theta_2*l*w_2 - 1512*A_xx*w_1**2 + 3024*A_xx*w_1*w_2 - 1512*A_xx*w_2**2)/l**2 + 0.5*(-18*A_xx*Theta_1**2*l**2 - 36*A_xx*Theta_1*Theta_2*l**2 + 72*A_xx*Theta_1*l*w_1 - 72*A_xx*Theta_1*l*w_2 - 18*A_xx*Theta_2**2*l**2 + 72*A_xx*Theta_2*l*w_1 - 72*A_xx*Theta_2*l*w_2 - 72*A_xx*w_1**2 + 144*A_xx*w_1*w_2 - 72*A_xx*w_2**2)/l**2 + 0.25*(207*A_xx*Theta_1**2*l**2 + 126*A_xx*Theta_1*Theta_2*l**2 - 360*A_xx*Theta_1*l*w_1 + 360*A_xx*Theta_1*l*w_2 + 12*A_xx*Theta_2**2*l**2 - 72*A_xx*Theta_2*l*w_1 + 72*A_xx*Theta_2*l*w_2 + 108*A_xx*w_1**2 - 216*A_xx*w_1*w_2 + 108*A_xx*w_2**2)/l**2 + 0.5*(307*A_xx*Theta_1**2*l**2 + 364*A_xx*Theta_1*Theta_2*l**2 - 912*A_xx*Theta_1*l*w_1 + 912*A_xx*Theta_1*l*w_2 + 97*A_xx*Theta_2**2*l**2 - 504*A_xx*Theta_2*l*w_1 + 504*A_xx*Theta_2*l*w_2 + 648*A_xx*w_1**2 - 1296*A_xx*w_1*w_2 + 648*A_xx*w_2**2)/l**2 + 0.125*(405*A_xx*Theta_1**2*l**2 + 702*A_xx*Theta_1*Theta_2*l**2 - 1512*A_xx*Theta_1*l*w_1 + 1512*A_xx*Theta_1*l*w_2 + 297*A_xx*Theta_2**2*l**2 - 1296*A_xx*Theta_2*l*w_1 + 1296*A_xx*Theta_2*l*w_2 + 1404*A_xx*w_1**2 - 2808*A_xx*w_1*w_2 + 1404*A_xx*w_2**2)/l**2\n",
      "K22_22 =  -3.5*A_xx*Theta_1**2*l - 1.0*A_xx*Theta_1*Theta_2*l + 3.0*A_xx*Theta_1*w_1 - 3.0*A_xx*Theta_1*w_2 + 4*D_xx/l + 0.5*(-200*A_xx*Theta_1**2*l**2 - 250*A_xx*Theta_1*Theta_2*l**2 + 614*A_xx*Theta_1*l*w_1 - 614*A_xx*Theta_1*l*w_2 - 72*A_xx*Theta_2**2*l**2 + 364*A_xx*Theta_2*l*w_1 - 364*A_xx*Theta_2*l*w_2 - 456*A_xx*w_1**2 + 912*A_xx*w_1*w_2 - 456*A_xx*w_2**2)/l + 0.25*(-108*A_xx*Theta_1**2*l**2 - 189*A_xx*Theta_1*Theta_2*l**2 + 405*A_xx*Theta_1*l*w_1 - 405*A_xx*Theta_1*l*w_2 - 81*A_xx*Theta_2**2*l**2 + 351*A_xx*Theta_2*l*w_1 - 351*A_xx*Theta_2*l*w_2 - 378*A_xx*w_1**2 + 756*A_xx*w_1*w_2 - 378*A_xx*w_2**2)/l + 0.5*(-100*A_xx*Theta_1**2*l**2 - 75*A_xx*Theta_1*Theta_2*l**2 + 207*A_xx*Theta_1*l*w_1 - 207*A_xx*Theta_1*l*w_2 - 11*A_xx*Theta_2**2*l**2 + 63*A_xx*Theta_2*l*w_1 - 63*A_xx*Theta_2*l*w_2 - 90*A_xx*w_1**2 + 180*A_xx*w_1*w_2 - 90*A_xx*w_2**2)/l + 0.5*(9*A_xx*Theta_1**2*l**2 + 18*A_xx*Theta_1*Theta_2*l**2 - 36*A_xx*Theta_1*l*w_1 + 36*A_xx*Theta_1*l*w_2 + 9*A_xx*Theta_2**2*l**2 - 36*A_xx*Theta_2*l*w_1 + 36*A_xx*Theta_2*l*w_2 + 36*A_xx*w_1**2 - 72*A_xx*w_1*w_2 + 36*A_xx*w_2**2)/l + 0.166666666666667*(108*A_xx*Theta_1**2*l**2 + 54*A_xx*Theta_1*Theta_2*l**2 - 156*A_xx*Theta_1*l*w_1 + 156*A_xx*Theta_1*l*w_2 + 4*A_xx*Theta_2**2*l**2 - 24*A_xx*Theta_2*l*w_1 + 24*A_xx*Theta_2*l*w_2 + 36*A_xx*w_1**2 - 72*A_xx*w_1*w_2 + 36*A_xx*w_2**2)/l + 0.1*(886*A_xx*Theta_1**2*l**2 + 886*A_xx*Theta_1*Theta_2*l**2 - 2316*A_xx*Theta_1*l*w_1 + 2316*A_xx*Theta_1*l*w_2 + 193*A_xx*Theta_2**2*l**2 - 1044*A_xx*Theta_2*l*w_1 + 1044*A_xx*Theta_2*l*w_2 + 1404*A_xx*w_1**2 - 2808*A_xx*w_1*w_2 + 1404*A_xx*w_2**2)/l + 0.0714285714285714*(972*A_xx*Theta_1**2*l**2 + 1458*A_xx*Theta_1*Theta_2*l**2 - 3348*A_xx*Theta_1*l*w_1 + 3348*A_xx*Theta_1*l*w_2 + 522*A_xx*Theta_2**2*l**2 - 2448*A_xx*Theta_2*l*w_1 + 2448*A_xx*Theta_2*l*w_2 + 2844*A_xx*w_1**2 - 5688*A_xx*w_1*w_2 + 2844*A_xx*w_2**2)/l\n",
      "K22_23 =  -1.5*A_xx*Theta_1**2 + 6*D_xx/l**2 + 0.5*(26*A_xx*Theta_1**2*l + 8*A_xx*Theta_1*Theta_2*l - 24*A_xx*Theta_1*w_1 + 24*A_xx*Theta_1*w_2)/l + 0.125*(-405*A_xx*Theta_1**2*l**2 - 702*A_xx*Theta_1*Theta_2*l**2 + 1512*A_xx*Theta_1*l*w_1 - 1512*A_xx*Theta_1*l*w_2 - 297*A_xx*Theta_2**2*l**2 + 1296*A_xx*Theta_2*l*w_1 - 1296*A_xx*Theta_2*l*w_2 - 1404*A_xx*w_1**2 + 2808*A_xx*w_1*w_2 - 1404*A_xx*w_2**2)/l**2 + 0.5*(-307*A_xx*Theta_1**2*l**2 - 364*A_xx*Theta_1*Theta_2*l**2 + 912*A_xx*Theta_1*l*w_1 - 912*A_xx*Theta_1*l*w_2 - 97*A_xx*Theta_2**2*l**2 + 504*A_xx*Theta_2*l*w_1 - 504*A_xx*Theta_2*l*w_2 - 648*A_xx*w_1**2 + 1296*A_xx*w_1*w_2 - 648*A_xx*w_2**2)/l**2 + 0.25*(-207*A_xx*Theta_1**2*l**2 - 126*A_xx*Theta_1*Theta_2*l**2 + 360*A_xx*Theta_1*l*w_1 - 360*A_xx*Theta_1*l*w_2 - 12*A_xx*Theta_2**2*l**2 + 72*A_xx*Theta_2*l*w_1 - 72*A_xx*Theta_2*l*w_2 - 108*A_xx*w_1**2 + 216*A_xx*w_1*w_2 - 108*A_xx*w_2**2)/l**2 + 0.5*(18*A_xx*Theta_1**2*l**2 + 36*A_xx*Theta_1*Theta_2*l**2 - 72*A_xx*Theta_1*l*w_1 + 72*A_xx*Theta_1*l*w_2 + 18*A_xx*Theta_2**2*l**2 - 72*A_xx*Theta_2*l*w_1 + 72*A_xx*Theta_2*l*w_2 + 72*A_xx*w_1**2 - 144*A_xx*w_1*w_2 + 72*A_xx*w_2**2)/l**2 + 0.1*(1158*A_xx*Theta_1**2*l**2 + 1044*A_xx*Theta_1*Theta_2*l**2 - 2808*A_xx*Theta_1*l*w_1 + 2808*A_xx*Theta_1*l*w_2 + 192*A_xx*Theta_2**2*l**2 - 1080*A_xx*Theta_2*l*w_1 + 1080*A_xx*Theta_2*l*w_2 + 1512*A_xx*w_1**2 - 3024*A_xx*w_1*w_2 + 1512*A_xx*w_2**2)/l**2 + 0.0714285714285714*(1674*A_xx*Theta_1**2*l**2 + 2448*A_xx*Theta_1*Theta_2*l**2 - 5688*A_xx*Theta_1*l*w_1 + 5688*A_xx*Theta_1*l*w_2 + 846*A_xx*Theta_2**2*l**2 - 4032*A_xx*Theta_2*l*w_1 + 4032*A_xx*Theta_2*l*w_2 + 4752*A_xx*w_1**2 - 9504*A_xx*w_1*w_2 + 4752*A_xx*w_2**2)/l**2\n",
      "K22_24 =  4.0*A_xx*Theta_1**2*l + 1.33333333333333*A_xx*Theta_1*Theta_2*l - 4.0*A_xx*Theta_1*w_1 + 4.0*A_xx*Theta_1*w_2 + 2*D_xx/l + 0.125*(-189*A_xx*Theta_1**2*l**2 - 324*A_xx*Theta_1*Theta_2*l**2 + 702*A_xx*Theta_1*l*w_1 - 702*A_xx*Theta_1*l*w_2 - 135*A_xx*Theta_2**2*l**2 + 594*A_xx*Theta_2*l*w_1 - 594*A_xx*Theta_2*l*w_2 - 648*A_xx*w_1**2 + 1296*A_xx*w_1*w_2 - 648*A_xx*w_2**2)/l + 0.5*(-125*A_xx*Theta_1**2*l**2 - 144*A_xx*Theta_1*Theta_2*l**2 + 364*A_xx*Theta_1*l*w_1 - 364*A_xx*Theta_1*l*w_2 - 37*A_xx*Theta_2**2*l**2 + 194*A_xx*Theta_2*l*w_1 - 194*A_xx*Theta_2*l*w_2 - 252*A_xx*w_1**2 + 504*A_xx*w_1*w_2 - 252*A_xx*w_2**2)/l + 0.25*(-75*A_xx*Theta_1**2*l**2 - 44*A_xx*Theta_1*Theta_2*l**2 + 126*A_xx*Theta_1*l*w_1 - 126*A_xx*Theta_1*l*w_2 - 4*A_xx*Theta_2**2*l**2 + 24*A_xx*Theta_2*l*w_1 - 24*A_xx*Theta_2*l*w_2 - 36*A_xx*w_1**2 + 72*A_xx*w_1*w_2 - 36*A_xx*w_2**2)/l + 0.5*(9*A_xx*Theta_1**2*l**2 + 18*A_xx*Theta_1*Theta_2*l**2 - 36*A_xx*Theta_1*l*w_1 + 36*A_xx*Theta_1*l*w_2 + 9*A_xx*Theta_2**2*l**2 - 36*A_xx*Theta_2*l*w_1 + 36*A_xx*Theta_2*l*w_2 + 36*A_xx*w_1**2 - 72*A_xx*w_1*w_2 + 36*A_xx*w_2**2)/l + 0.1*(443*A_xx*Theta_1**2*l**2 + 386*A_xx*Theta_1*Theta_2*l**2 - 1044*A_xx*Theta_1*l*w_1 + 1044*A_xx*Theta_1*l*w_2 + 68*A_xx*Theta_2**2*l**2 - 384*A_xx*Theta_2*l*w_1 + 384*A_xx*Theta_2*l*w_2 + 540*A_xx*w_1**2 - 1080*A_xx*w_1*w_2 + 540*A_xx*w_2**2)/l + 0.0714285714285714*(729*A_xx*Theta_1**2*l**2 + 1044*A_xx*Theta_1*Theta_2*l**2 - 2448*A_xx*Theta_1*l*w_1 + 2448*A_xx*Theta_1*l*w_2 + 351*A_xx*Theta_2**2*l**2 - 1692*A_xx*Theta_2*l*w_1 + 1692*A_xx*Theta_2*l*w_2 + 2016*A_xx*w_1**2 - 4032*A_xx*w_1*w_2 + 2016*A_xx*w_2**2)/l\n",
      "K22_31 =  -6.0*A_xx*Theta_1**2/l - 12*D_xx/l**3 + 0.5*(90*A_xx*Theta_1**2*l + 36*A_xx*Theta_1*Theta_2*l - 108*A_xx*Theta_1*w_1 + 108*A_xx*Theta_1*w_2)/l**2 + 0.0714285714285714*(-2844*A_xx*Theta_1**2*l**2 - 4032*A_xx*Theta_1*Theta_2*l**2 + 9504*A_xx*Theta_1*l*w_1 - 9504*A_xx*Theta_1*l*w_2 - 1332*A_xx*Theta_2**2*l**2 + 6480*A_xx*Theta_2*l*w_1 - 6480*A_xx*Theta_2*l*w_2 - 7776*A_xx*w_1**2 + 15552*A_xx*w_1*w_2 - 7776*A_xx*w_2**2)/l**3 + 0.1*(-1404*A_xx*Theta_1**2*l**2 - 1080*A_xx*Theta_1*Theta_2*l**2 + 3024*A_xx*Theta_1*l*w_1 - 3024*A_xx*Theta_1*l*w_2 - 144*A_xx*Theta_2**2*l**2 + 864*A_xx*Theta_2*l*w_1 - 864*A_xx*Theta_2*l*w_2 - 1296*A_xx*w_1**2 + 2592*A_xx*w_1*w_2 - 1296*A_xx*w_2**2)/l**3 + 0.5*(-36*A_xx*Theta_1**2*l**2 - 72*A_xx*Theta_1*Theta_2*l**2 + 144*A_xx*Theta_1*l*w_1 - 144*A_xx*Theta_1*l*w_2 - 36*A_xx*Theta_2**2*l**2 + 144*A_xx*Theta_2*l*w_1 - 144*A_xx*Theta_2*l*w_2 - 144*A_xx*w_1**2 + 288*A_xx*w_1*w_2 - 144*A_xx*w_2**2)/l**3 + 0.5*(189*A_xx*Theta_1**2*l**2 + 324*A_xx*Theta_1*Theta_2*l**2 - 702*A_xx*Theta_1*l*w_1 + 702*A_xx*Theta_1*l*w_2 + 135*A_xx*Theta_2**2*l**2 - 594*A_xx*Theta_2*l*w_1 + 594*A_xx*Theta_2*l*w_2 + 648*A_xx*w_1**2 - 1296*A_xx*w_1*w_2 + 648*A_xx*w_2**2)/l**3 + 0.5*(456*A_xx*Theta_1**2*l**2 + 504*A_xx*Theta_1*Theta_2*l**2 - 1296*A_xx*Theta_1*l*w_1 + 1296*A_xx*Theta_1*l*w_2 + 120*A_xx*Theta_2**2*l**2 - 648*A_xx*Theta_2*l*w_1 + 648*A_xx*Theta_2*l*w_2 + 864*A_xx*w_1**2 - 1728*A_xx*w_1*w_2 + 864*A_xx*w_2**2)/l**3\n",
      "K22_32 =  -1.5*A_xx*Theta_1**2 + 6*D_xx/l**2 + 0.5*(26*A_xx*Theta_1**2*l + 8*A_xx*Theta_1*Theta_2*l - 24*A_xx*Theta_1*w_1 + 24*A_xx*Theta_1*w_2)/l + 0.125*(-405*A_xx*Theta_1**2*l**2 - 702*A_xx*Theta_1*Theta_2*l**2 + 1512*A_xx*Theta_1*l*w_1 - 1512*A_xx*Theta_1*l*w_2 - 297*A_xx*Theta_2**2*l**2 + 1296*A_xx*Theta_2*l*w_1 - 1296*A_xx*Theta_2*l*w_2 - 1404*A_xx*w_1**2 + 2808*A_xx*w_1*w_2 - 1404*A_xx*w_2**2)/l**2 + 0.5*(-307*A_xx*Theta_1**2*l**2 - 364*A_xx*Theta_1*Theta_2*l**2 + 912*A_xx*Theta_1*l*w_1 - 912*A_xx*Theta_1*l*w_2 - 97*A_xx*Theta_2**2*l**2 + 504*A_xx*Theta_2*l*w_1 - 504*A_xx*Theta_2*l*w_2 - 648*A_xx*w_1**2 + 1296*A_xx*w_1*w_2 - 648*A_xx*w_2**2)/l**2 + 0.25*(-207*A_xx*Theta_1**2*l**2 - 126*A_xx*Theta_1*Theta_2*l**2 + 360*A_xx*Theta_1*l*w_1 - 360*A_xx*Theta_1*l*w_2 - 12*A_xx*Theta_2**2*l**2 + 72*A_xx*Theta_2*l*w_1 - 72*A_xx*Theta_2*l*w_2 - 108*A_xx*w_1**2 + 216*A_xx*w_1*w_2 - 108*A_xx*w_2**2)/l**2 + 0.5*(18*A_xx*Theta_1**2*l**2 + 36*A_xx*Theta_1*Theta_2*l**2 - 72*A_xx*Theta_1*l*w_1 + 72*A_xx*Theta_1*l*w_2 + 18*A_xx*Theta_2**2*l**2 - 72*A_xx*Theta_2*l*w_1 + 72*A_xx*Theta_2*l*w_2 + 72*A_xx*w_1**2 - 144*A_xx*w_1*w_2 + 72*A_xx*w_2**2)/l**2 + 0.1*(1158*A_xx*Theta_1**2*l**2 + 1044*A_xx*Theta_1*Theta_2*l**2 - 2808*A_xx*Theta_1*l*w_1 + 2808*A_xx*Theta_1*l*w_2 + 192*A_xx*Theta_2**2*l**2 - 1080*A_xx*Theta_2*l*w_1 + 1080*A_xx*Theta_2*l*w_2 + 1512*A_xx*w_1**2 - 3024*A_xx*w_1*w_2 + 1512*A_xx*w_2**2)/l**2 + 0.0714285714285714*(1674*A_xx*Theta_1**2*l**2 + 2448*A_xx*Theta_1*Theta_2*l**2 - 5688*A_xx*Theta_1*l*w_1 + 5688*A_xx*Theta_1*l*w_2 + 846*A_xx*Theta_2**2*l**2 - 4032*A_xx*Theta_2*l*w_1 + 4032*A_xx*Theta_2*l*w_2 + 4752*A_xx*w_1**2 - 9504*A_xx*w_1*w_2 + 4752*A_xx*w_2**2)/l**2\n",
      "K22_33 =  6.0*A_xx*Theta_1**2/l + 12*D_xx/l**3 + 0.5*(-90*A_xx*Theta_1**2*l - 36*A_xx*Theta_1*Theta_2*l + 108*A_xx*Theta_1*w_1 - 108*A_xx*Theta_1*w_2)/l**2 + 0.5*(-456*A_xx*Theta_1**2*l**2 - 504*A_xx*Theta_1*Theta_2*l**2 + 1296*A_xx*Theta_1*l*w_1 - 1296*A_xx*Theta_1*l*w_2 - 120*A_xx*Theta_2**2*l**2 + 648*A_xx*Theta_2*l*w_1 - 648*A_xx*Theta_2*l*w_2 - 864*A_xx*w_1**2 + 1728*A_xx*w_1*w_2 - 864*A_xx*w_2**2)/l**3 + 0.5*(-189*A_xx*Theta_1**2*l**2 - 324*A_xx*Theta_1*Theta_2*l**2 + 702*A_xx*Theta_1*l*w_1 - 702*A_xx*Theta_1*l*w_2 - 135*A_xx*Theta_2**2*l**2 + 594*A_xx*Theta_2*l*w_1 - 594*A_xx*Theta_2*l*w_2 - 648*A_xx*w_1**2 + 1296*A_xx*w_1*w_2 - 648*A_xx*w_2**2)/l**3 + 0.5*(36*A_xx*Theta_1**2*l**2 + 72*A_xx*Theta_1*Theta_2*l**2 - 144*A_xx*Theta_1*l*w_1 + 144*A_xx*Theta_1*l*w_2 + 36*A_xx*Theta_2**2*l**2 - 144*A_xx*Theta_2*l*w_1 + 144*A_xx*Theta_2*l*w_2 + 144*A_xx*w_1**2 - 288*A_xx*w_1*w_2 + 144*A_xx*w_2**2)/l**3 + 0.1*(1404*A_xx*Theta_1**2*l**2 + 1080*A_xx*Theta_1*Theta_2*l**2 - 3024*A_xx*Theta_1*l*w_1 + 3024*A_xx*Theta_1*l*w_2 + 144*A_xx*Theta_2**2*l**2 - 864*A_xx*Theta_2*l*w_1 + 864*A_xx*Theta_2*l*w_2 + 1296*A_xx*w_1**2 - 2592*A_xx*w_1*w_2 + 1296*A_xx*w_2**2)/l**3 + 0.0714285714285714*(2844*A_xx*Theta_1**2*l**2 + 4032*A_xx*Theta_1*Theta_2*l**2 - 9504*A_xx*Theta_1*l*w_1 + 9504*A_xx*Theta_1*l*w_2 + 1332*A_xx*Theta_2**2*l**2 - 6480*A_xx*Theta_2*l*w_1 + 6480*A_xx*Theta_2*l*w_2 + 7776*A_xx*w_1**2 - 15552*A_xx*w_1*w_2 + 7776*A_xx*w_2**2)/l**3\n",
      "K22_34 =  2.0*A_xx*Theta_1**2 + 6*D_xx/l**2 + 0.25*(-63*A_xx*Theta_1**2*l - 24*A_xx*Theta_1*Theta_2*l + 72*A_xx*Theta_1*w_1 - 72*A_xx*Theta_1*w_2)/l + 0.125*(-351*A_xx*Theta_1**2*l**2 - 594*A_xx*Theta_1*Theta_2*l**2 + 1296*A_xx*Theta_1*l*w_1 - 1296*A_xx*Theta_1*l*w_2 - 243*A_xx*Theta_2**2*l**2 + 1080*A_xx*Theta_2*l*w_1 - 1080*A_xx*Theta_2*l*w_2 - 1188*A_xx*w_1**2 + 2376*A_xx*w_1*w_2 - 1188*A_xx*w_2**2)/l**2 + 0.5*(-182*A_xx*Theta_1**2*l**2 - 194*A_xx*Theta_1*Theta_2*l**2 + 504*A_xx*Theta_1*l*w_1 - 504*A_xx*Theta_1*l*w_2 - 44*A_xx*Theta_2**2*l**2 + 240*A_xx*Theta_2*l*w_1 - 240*A_xx*Theta_2*l*w_2 - 324*A_xx*w_1**2 + 648*A_xx*w_1*w_2 - 324*A_xx*w_2**2)/l**2 + 0.5*(18*A_xx*Theta_1**2*l**2 + 36*A_xx*Theta_1*Theta_2*l**2 - 72*A_xx*Theta_1*l*w_1 + 72*A_xx*Theta_1*l*w_2 + 18*A_xx*Theta_2**2*l**2 - 72*A_xx*Theta_2*l*w_1 + 72*A_xx*Theta_2*l*w_2 + 72*A_xx*w_1**2 - 144*A_xx*w_1*w_2 + 72*A_xx*w_2**2)/l**2 + 0.1*(522*A_xx*Theta_1**2*l**2 + 384*A_xx*Theta_1*Theta_2*l**2 - 1080*A_xx*Theta_1*l*w_1 + 1080*A_xx*Theta_1*l*w_2 + 48*A_xx*Theta_2**2*l**2 - 288*A_xx*Theta_2*l*w_1 + 288*A_xx*Theta_2*l*w_2 + 432*A_xx*w_1**2 - 864*A_xx*w_1*w_2 + 432*A_xx*w_2**2)/l**2 + 0.0714285714285714*(1224*A_xx*Theta_1**2*l**2 + 1692*A_xx*Theta_1*Theta_2*l**2 - 4032*A_xx*Theta_1*l*w_1 + 4032*A_xx*Theta_1*l*w_2 + 540*A_xx*Theta_2**2*l**2 - 2664*A_xx*Theta_2*l*w_1 + 2664*A_xx*Theta_2*l*w_2 + 3240*A_xx*w_1**2 - 6480*A_xx*w_1*w_2 + 3240*A_xx*w_2**2)/l**2\n",
      "K22_41 =  -2.0*A_xx*Theta_1**2 - 6*D_xx/l**2 + 0.25*(63*A_xx*Theta_1**2*l + 24*A_xx*Theta_1*Theta_2*l - 72*A_xx*Theta_1*w_1 + 72*A_xx*Theta_1*w_2)/l + 0.0714285714285714*(-1224*A_xx*Theta_1**2*l**2 - 1692*A_xx*Theta_1*Theta_2*l**2 + 4032*A_xx*Theta_1*l*w_1 - 4032*A_xx*Theta_1*l*w_2 - 540*A_xx*Theta_2**2*l**2 + 2664*A_xx*Theta_2*l*w_1 - 2664*A_xx*Theta_2*l*w_2 - 3240*A_xx*w_1**2 + 6480*A_xx*w_1*w_2 - 3240*A_xx*w_2**2)/l**2 + 0.1*(-522*A_xx*Theta_1**2*l**2 - 384*A_xx*Theta_1*Theta_2*l**2 + 1080*A_xx*Theta_1*l*w_1 - 1080*A_xx*Theta_1*l*w_2 - 48*A_xx*Theta_2**2*l**2 + 288*A_xx*Theta_2*l*w_1 - 288*A_xx*Theta_2*l*w_2 - 432*A_xx*w_1**2 + 864*A_xx*w_1*w_2 - 432*A_xx*w_2**2)/l**2 + 0.5*(-18*A_xx*Theta_1**2*l**2 - 36*A_xx*Theta_1*Theta_2*l**2 + 72*A_xx*Theta_1*l*w_1 - 72*A_xx*Theta_1*l*w_2 - 18*A_xx*Theta_2**2*l**2 + 72*A_xx*Theta_2*l*w_1 - 72*A_xx*Theta_2*l*w_2 - 72*A_xx*w_1**2 + 144*A_xx*w_1*w_2 - 72*A_xx*w_2**2)/l**2 + 0.5*(182*A_xx*Theta_1**2*l**2 + 194*A_xx*Theta_1*Theta_2*l**2 - 504*A_xx*Theta_1*l*w_1 + 504*A_xx*Theta_1*l*w_2 + 44*A_xx*Theta_2**2*l**2 - 240*A_xx*Theta_2*l*w_1 + 240*A_xx*Theta_2*l*w_2 + 324*A_xx*w_1**2 - 648*A_xx*w_1*w_2 + 324*A_xx*w_2**2)/l**2 + 0.125*(351*A_xx*Theta_1**2*l**2 + 594*A_xx*Theta_1*Theta_2*l**2 - 1296*A_xx*Theta_1*l*w_1 + 1296*A_xx*Theta_1*l*w_2 + 243*A_xx*Theta_2**2*l**2 - 1080*A_xx*Theta_2*l*w_1 + 1080*A_xx*Theta_2*l*w_2 + 1188*A_xx*w_1**2 - 2376*A_xx*w_1*w_2 + 1188*A_xx*w_2**2)/l**2\n",
      "K22_42 =  4.0*A_xx*Theta_1**2*l + 1.33333333333333*A_xx*Theta_1*Theta_2*l - 4.0*A_xx*Theta_1*w_1 + 4.0*A_xx*Theta_1*w_2 + 2*D_xx/l + 0.125*(-189*A_xx*Theta_1**2*l**2 - 324*A_xx*Theta_1*Theta_2*l**2 + 702*A_xx*Theta_1*l*w_1 - 702*A_xx*Theta_1*l*w_2 - 135*A_xx*Theta_2**2*l**2 + 594*A_xx*Theta_2*l*w_1 - 594*A_xx*Theta_2*l*w_2 - 648*A_xx*w_1**2 + 1296*A_xx*w_1*w_2 - 648*A_xx*w_2**2)/l + 0.5*(-125*A_xx*Theta_1**2*l**2 - 144*A_xx*Theta_1*Theta_2*l**2 + 364*A_xx*Theta_1*l*w_1 - 364*A_xx*Theta_1*l*w_2 - 37*A_xx*Theta_2**2*l**2 + 194*A_xx*Theta_2*l*w_1 - 194*A_xx*Theta_2*l*w_2 - 252*A_xx*w_1**2 + 504*A_xx*w_1*w_2 - 252*A_xx*w_2**2)/l + 0.25*(-75*A_xx*Theta_1**2*l**2 - 44*A_xx*Theta_1*Theta_2*l**2 + 126*A_xx*Theta_1*l*w_1 - 126*A_xx*Theta_1*l*w_2 - 4*A_xx*Theta_2**2*l**2 + 24*A_xx*Theta_2*l*w_1 - 24*A_xx*Theta_2*l*w_2 - 36*A_xx*w_1**2 + 72*A_xx*w_1*w_2 - 36*A_xx*w_2**2)/l + 0.5*(9*A_xx*Theta_1**2*l**2 + 18*A_xx*Theta_1*Theta_2*l**2 - 36*A_xx*Theta_1*l*w_1 + 36*A_xx*Theta_1*l*w_2 + 9*A_xx*Theta_2**2*l**2 - 36*A_xx*Theta_2*l*w_1 + 36*A_xx*Theta_2*l*w_2 + 36*A_xx*w_1**2 - 72*A_xx*w_1*w_2 + 36*A_xx*w_2**2)/l + 0.1*(443*A_xx*Theta_1**2*l**2 + 386*A_xx*Theta_1*Theta_2*l**2 - 1044*A_xx*Theta_1*l*w_1 + 1044*A_xx*Theta_1*l*w_2 + 68*A_xx*Theta_2**2*l**2 - 384*A_xx*Theta_2*l*w_1 + 384*A_xx*Theta_2*l*w_2 + 540*A_xx*w_1**2 - 1080*A_xx*w_1*w_2 + 540*A_xx*w_2**2)/l + 0.0714285714285714*(729*A_xx*Theta_1**2*l**2 + 1044*A_xx*Theta_1*Theta_2*l**2 - 2448*A_xx*Theta_1*l*w_1 + 2448*A_xx*Theta_1*l*w_2 + 351*A_xx*Theta_2**2*l**2 - 1692*A_xx*Theta_2*l*w_1 + 1692*A_xx*Theta_2*l*w_2 + 2016*A_xx*w_1**2 - 4032*A_xx*w_1*w_2 + 2016*A_xx*w_2**2)/l\n",
      "K22_43 =  2.0*A_xx*Theta_1**2 + 6*D_xx/l**2 + 0.25*(-63*A_xx*Theta_1**2*l - 24*A_xx*Theta_1*Theta_2*l + 72*A_xx*Theta_1*w_1 - 72*A_xx*Theta_1*w_2)/l + 0.125*(-351*A_xx*Theta_1**2*l**2 - 594*A_xx*Theta_1*Theta_2*l**2 + 1296*A_xx*Theta_1*l*w_1 - 1296*A_xx*Theta_1*l*w_2 - 243*A_xx*Theta_2**2*l**2 + 1080*A_xx*Theta_2*l*w_1 - 1080*A_xx*Theta_2*l*w_2 - 1188*A_xx*w_1**2 + 2376*A_xx*w_1*w_2 - 1188*A_xx*w_2**2)/l**2 + 0.5*(-182*A_xx*Theta_1**2*l**2 - 194*A_xx*Theta_1*Theta_2*l**2 + 504*A_xx*Theta_1*l*w_1 - 504*A_xx*Theta_1*l*w_2 - 44*A_xx*Theta_2**2*l**2 + 240*A_xx*Theta_2*l*w_1 - 240*A_xx*Theta_2*l*w_2 - 324*A_xx*w_1**2 + 648*A_xx*w_1*w_2 - 324*A_xx*w_2**2)/l**2 + 0.5*(18*A_xx*Theta_1**2*l**2 + 36*A_xx*Theta_1*Theta_2*l**2 - 72*A_xx*Theta_1*l*w_1 + 72*A_xx*Theta_1*l*w_2 + 18*A_xx*Theta_2**2*l**2 - 72*A_xx*Theta_2*l*w_1 + 72*A_xx*Theta_2*l*w_2 + 72*A_xx*w_1**2 - 144*A_xx*w_1*w_2 + 72*A_xx*w_2**2)/l**2 + 0.1*(522*A_xx*Theta_1**2*l**2 + 384*A_xx*Theta_1*Theta_2*l**2 - 1080*A_xx*Theta_1*l*w_1 + 1080*A_xx*Theta_1*l*w_2 + 48*A_xx*Theta_2**2*l**2 - 288*A_xx*Theta_2*l*w_1 + 288*A_xx*Theta_2*l*w_2 + 432*A_xx*w_1**2 - 864*A_xx*w_1*w_2 + 432*A_xx*w_2**2)/l**2 + 0.0714285714285714*(1224*A_xx*Theta_1**2*l**2 + 1692*A_xx*Theta_1*Theta_2*l**2 - 4032*A_xx*Theta_1*l*w_1 + 4032*A_xx*Theta_1*l*w_2 + 540*A_xx*Theta_2**2*l**2 - 2664*A_xx*Theta_2*l*w_1 + 2664*A_xx*Theta_2*l*w_2 + 3240*A_xx*w_1**2 - 6480*A_xx*w_1*w_2 + 3240*A_xx*w_2**2)/l**2\n",
      "K22_44 =  -4.83333333333333*A_xx*Theta_1**2*l - 2.0*A_xx*Theta_1*Theta_2*l + 6.0*A_xx*Theta_1*w_1 - 6.0*A_xx*Theta_1*w_2 + 4*D_xx/l + 0.25*(-81*A_xx*Theta_1**2*l**2 - 135*A_xx*Theta_1*Theta_2*l**2 + 297*A_xx*Theta_1*l*w_1 - 297*A_xx*Theta_1*l*w_2 - 54*A_xx*Theta_2**2*l**2 + 243*A_xx*Theta_2*l*w_1 - 243*A_xx*Theta_2*l*w_2 - 270*A_xx*w_1**2 + 540*A_xx*w_1*w_2 - 270*A_xx*w_2**2)/l + 0.5*(-72*A_xx*Theta_1**2*l**2 - 74*A_xx*Theta_1*Theta_2*l**2 + 194*A_xx*Theta_1*l*w_1 - 194*A_xx*Theta_1*l*w_2 - 16*A_xx*Theta_2**2*l**2 + 88*A_xx*Theta_2*l*w_1 - 88*A_xx*Theta_2*l*w_2 - 120*A_xx*w_1**2 + 240*A_xx*w_1*w_2 - 120*A_xx*w_2**2)/l + 0.5*(9*A_xx*Theta_1**2*l**2 + 18*A_xx*Theta_1*Theta_2*l**2 - 36*A_xx*Theta_1*l*w_1 + 36*A_xx*Theta_1*l*w_2 + 9*A_xx*Theta_2**2*l**2 - 36*A_xx*Theta_2*l*w_1 + 36*A_xx*Theta_2*l*w_2 + 36*A_xx*w_1**2 - 72*A_xx*w_1*w_2 + 36*A_xx*w_2**2)/l + 0.1*(193*A_xx*Theta_1**2*l**2 + 136*A_xx*Theta_1*Theta_2*l**2 - 384*A_xx*Theta_1*l*w_1 + 384*A_xx*Theta_1*l*w_2 + 16*A_xx*Theta_2**2*l**2 - 96*A_xx*Theta_2*l*w_1 + 96*A_xx*Theta_2*l*w_2 + 144*A_xx*w_1**2 - 288*A_xx*w_1*w_2 + 144*A_xx*w_2**2)/l + 0.0714285714285714*(522*A_xx*Theta_1**2*l**2 + 702*A_xx*Theta_1*Theta_2*l**2 - 1692*A_xx*Theta_1*l*w_1 + 1692*A_xx*Theta_1*l*w_2 + 216*A_xx*Theta_2**2*l**2 - 1080*A_xx*Theta_2*l*w_1 + 1080*A_xx*Theta_2*l*w_2 + 1332*A_xx*w_1**2 - 2664*A_xx*w_1*w_2 + 1332*A_xx*w_2**2)/l\n"
     ]
    }
   ],
   "source": [
    "print(\"K22_11 = \", K22_11)\n",
    "print(\"K22_12 = \", K22_12)\n",
    "print(\"K22_13 = \", K22_13)\n",
    "print(\"K22_14 = \", K22_14)\n",
    "print(\"K22_21 = \", K22_21)\n",
    "print(\"K22_22 = \", K22_22)\n",
    "print(\"K22_23 = \", K22_23)\n",
    "print(\"K22_24 = \", K22_24)\n",
    "print(\"K22_31 = \", K22_31)\n",
    "print(\"K22_32 = \", K22_32)\n",
    "print(\"K22_33 = \", K22_33)\n",
    "print(\"K22_34 = \", K22_34)\n",
    "print(\"K22_41 = \", K22_41)\n",
    "print(\"K22_42 = \", K22_42)\n",
    "print(\"K22_43 = \", K22_43)\n",
    "print(\"K22_44 = \", K22_44)"
   ]
  },
  {
   "cell_type": "code",
   "execution_count": 16,
   "id": "6447dd2a",
   "metadata": {},
   "outputs": [],
   "source": [
    "f_1 = K11_11*u_1+K11_12*u_2+K12_11*w_1+K12_12*Theta_1+K12_13*w_2+K12_14*Theta_2\n",
    "f_2 = K11_21*u_1+K11_22*u_2+K12_21*w_1+K12_22*Theta_1+K12_23*w_2+K12_24*Theta_2\n",
    "f_3 = K21_11*u_1+K21_12*u_2+K22_11*w_1+K22_12*Theta_1+K22_13*w_2+K22_14*Theta_2\n",
    "f_4 = K21_21*u_1+K21_22*u_2+K22_21*w_1+K22_22*Theta_1+K22_23*w_2+K22_24*Theta_2\n",
    "f_5 = K21_31*u_1+K21_32*u_2+K22_31*w_1+K22_32*Theta_1+K22_33*w_2+K22_34*Theta_2\n",
    "f_6 = K21_41*u_1+K21_42*u_2+K22_41*w_1+K22_42*Theta_1+K22_43*w_2+K22_44*Theta_2"
   ]
  },
  {
   "cell_type": "code",
   "execution_count": 17,
   "id": "62843ac7",
   "metadata": {},
   "outputs": [],
   "source": [
    "f_21 = K11_11*u_2+K11_12*u_3+K12_11*w_2+K12_12*Theta_2+K12_13*w_3+K12_14*Theta_3+f_2\n",
    "f_53 = K21_11*u_2+K21_12*u_3+K22_11*w_2+K22_12*Theta_2+K22_13*w_3+K22_14*Theta_3+f_5\n",
    "f_64 = K21_21*u_2+K21_22*u_3+K22_21*w_2+K22_22*Theta_2+K22_23*w_3+K22_24*Theta_3+f_6"
   ]
  },
  {
   "cell_type": "code",
   "execution_count": 18,
   "id": "26383097",
   "metadata": {},
   "outputs": [
    {
     "name": "stdout",
     "output_type": "stream",
     "text": [
      "f_1 =  A_xx*(l*(-Theta_1*(0.0666666666666665*Theta_1*l - 0.0166666666666667*Theta_2*l - 0.05*w_1 + 0.05*w_2) + Theta_2*(0.0166666666666667*Theta_1*l - 0.0666666666666667*Theta_2*l + 0.05*w_1 - 0.05*w_2) + u_1 - u_2) + (-w_1 + w_2)*(-0.05*Theta_1*l - 0.05*Theta_2*l + 0.6*w_1 - 0.6*w_2))/l**2\n",
      "f_2 =  A_xx*(l*(Theta_1*(0.0666666666666665*Theta_1*l - 0.0166666666666667*Theta_2*l - 0.05*w_1 + 0.05*w_2) - Theta_2*(0.0166666666666667*Theta_1*l - 0.0666666666666667*Theta_2*l + 0.05*w_1 - 0.05*w_2) - u_1 + u_2) + (w_1 - w_2)*(-0.05*Theta_1*l - 0.05*Theta_2*l + 0.6*w_1 - 0.6*w_2))/l**2\n",
      "f_3 =  0.1*(0.0357142857143344*A_xx*Theta_1**3*l**3 - 0.107142857143003*A_xx*Theta_1**2*Theta_2*l**3 + 1.28571428571433*A_xx*Theta_1**2*l**2*w_1 - 1.28571428571433*A_xx*Theta_1**2*l**2*w_2 - 0.107142857143003*A_xx*Theta_1*Theta_2**2*l**3 + 1.0*A_xx*Theta_1*l**2*u_1 - 1.0*A_xx*Theta_1*l**2*u_2 - 3.8571428571413*A_xx*Theta_1*l*w_1**2 + 7.7142857142826*A_xx*Theta_1*l*w_1*w_2 - 3.8571428571413*A_xx*Theta_1*l*w_2**2 + 0.0357142857143344*A_xx*Theta_2**3*l**3 + 1.28571428571433*A_xx*Theta_2**2*l**2*w_1 - 1.28571428571433*A_xx*Theta_2**2*l**2*w_2 + 1.0*A_xx*Theta_2*l**2*u_1 - 1.0*A_xx*Theta_2*l**2*u_2 - 3.857142857143*A_xx*Theta_2*l*w_1**2 + 7.71428571428601*A_xx*Theta_2*l*w_1*w_2 - 3.857142857143*A_xx*Theta_2*l*w_2**2 - 12.0*A_xx*l*u_1*w_1 + 12.0*A_xx*l*u_1*w_2 + 12.0*A_xx*l*u_2*w_1 - 12.0*A_xx*l*u_2*w_2 + 10.2857142857147*A_xx*w_1**3 - 30.857142857144*A_xx*w_1**2*w_2 + 30.857142857144*A_xx*w_1*w_2**2 - 10.2857142857147*A_xx*w_2**3 - 60.0*D_xx*Theta_1*l - 60.0*D_xx*Theta_2*l + 120.0*D_xx*w_1 - 120.0*D_xx*w_2)/l**3\n",
      "f_4 =  0.0285714285714391*A_xx*Theta_1**3*l - 0.0107142857142861*A_xx*Theta_1**2*Theta_2*l + 0.0107142857142719*A_xx*Theta_1**2*w_1 - 0.0107142857142719*A_xx*Theta_1**2*w_2 + 0.00714285714286444*A_xx*Theta_1*Theta_2**2*l - 0.0214285714286007*A_xx*Theta_1*Theta_2*w_1 + 0.0214285714286007*A_xx*Theta_1*Theta_2*w_2 - 0.133333333333333*A_xx*Theta_1*u_1 + 0.133333333333333*A_xx*Theta_1*u_2 + 0.128571428571433*A_xx*Theta_1*w_1**2/l - 0.257142857142867*A_xx*Theta_1*w_1*w_2/l + 0.128571428571433*A_xx*Theta_1*w_2**2/l - 0.00357142857143344*A_xx*Theta_2**3*l - 0.0107142857142719*A_xx*Theta_2**2*w_1 + 0.0107142857142719*A_xx*Theta_2**2*w_2 + 0.0333333333333333*A_xx*Theta_2*u_1 - 0.0333333333333333*A_xx*Theta_2*u_2 + 0.1*A_xx*u_1*w_1/l - 0.1*A_xx*u_1*w_2/l - 0.1*A_xx*u_2*w_1/l + 0.1*A_xx*u_2*w_2/l - 0.128571428571377*A_xx*w_1**3/l**2 + 0.38571428571413*A_xx*w_1**2*w_2/l**2 - 0.38571428571413*A_xx*w_1*w_2**2/l**2 + 0.128571428571377*A_xx*w_2**3/l**2 + 4.0*D_xx*Theta_1/l + 2.0*D_xx*Theta_2/l - 6.0*D_xx*w_1/l**2 + 6.0*D_xx*w_2/l**2\n",
      "f_5 =  0.1*(-0.0357142857143344*A_xx*Theta_1**3*l**3 + 0.107142857143003*A_xx*Theta_1**2*Theta_2*l**3 - 1.28571428571433*A_xx*Theta_1**2*l**2*w_1 + 1.28571428571433*A_xx*Theta_1**2*l**2*w_2 + 0.107142857143003*A_xx*Theta_1*Theta_2**2*l**3 - 1.0*A_xx*Theta_1*l**2*u_1 + 1.0*A_xx*Theta_1*l**2*u_2 + 3.8571428571413*A_xx*Theta_1*l*w_1**2 - 7.7142857142826*A_xx*Theta_1*l*w_1*w_2 + 3.8571428571413*A_xx*Theta_1*l*w_2**2 - 0.0357142857143344*A_xx*Theta_2**3*l**3 - 1.28571428571433*A_xx*Theta_2**2*l**2*w_1 + 1.28571428571433*A_xx*Theta_2**2*l**2*w_2 - 1.0*A_xx*Theta_2*l**2*u_1 + 1.0*A_xx*Theta_2*l**2*u_2 + 3.857142857143*A_xx*Theta_2*l*w_1**2 - 7.71428571428601*A_xx*Theta_2*l*w_1*w_2 + 3.857142857143*A_xx*Theta_2*l*w_2**2 + 12.0*A_xx*l*u_1*w_1 - 12.0*A_xx*l*u_1*w_2 - 12.0*A_xx*l*u_2*w_1 + 12.0*A_xx*l*u_2*w_2 - 10.2857142857147*A_xx*w_1**3 + 30.857142857144*A_xx*w_1**2*w_2 - 30.857142857144*A_xx*w_1*w_2**2 + 10.2857142857147*A_xx*w_2**3 + 60.0*D_xx*Theta_1*l + 60.0*D_xx*Theta_2*l - 120.0*D_xx*w_1 + 120.0*D_xx*w_2)/l**3\n",
      "f_6 =  -0.00357142857143344*A_xx*Theta_1**3*l + 0.00714285714286356*A_xx*Theta_1**2*Theta_2*l - 0.0107142857143003*A_xx*Theta_1**2*w_1 + 0.0107142857143003*A_xx*Theta_1**2*w_2 - 0.0107142857142932*A_xx*Theta_1*Theta_2**2*l - 0.021428571428558*A_xx*Theta_1*Theta_2*w_1 + 0.021428571428558*A_xx*Theta_1*Theta_2*w_2 + 0.0333333333333333*A_xx*Theta_1*u_1 - 0.0333333333333333*A_xx*Theta_1*u_2 + 0.0285714285714271*A_xx*Theta_2**3*l + 0.0107142857142932*A_xx*Theta_2**2*w_1 - 0.0107142857142932*A_xx*Theta_2**2*w_2 - 0.133333333333333*A_xx*Theta_2*u_1 + 0.133333333333333*A_xx*Theta_2*u_2 + 0.128571428571428*A_xx*Theta_2*w_1**2/l - 0.257142857142856*A_xx*Theta_2*w_1*w_2/l + 0.128571428571428*A_xx*Theta_2*w_2**2/l + 0.1*A_xx*u_1*w_1/l - 0.1*A_xx*u_1*w_2/l - 0.1*A_xx*u_2*w_1/l + 0.1*A_xx*u_2*w_2/l - 0.128571428571433*A_xx*w_1**3/l**2 + 0.3857142857143*A_xx*w_1**2*w_2/l**2 - 0.3857142857143*A_xx*w_1*w_2**2/l**2 + 0.128571428571433*A_xx*w_2**3/l**2 + 2.0*D_xx*Theta_1/l + 4.0*D_xx*Theta_2/l - 6.0*D_xx*w_1/l**2 + 6.0*D_xx*w_2/l**2\n",
      "f_21 =  A_xx*(l*(Theta_1*(0.0666666666666665*Theta_1*l - 0.0166666666666667*Theta_2*l - 0.05*w_1 + 0.05*w_2) - Theta_2*(0.0166666666666667*Theta_1*l - 0.0666666666666667*Theta_2*l + 0.05*w_1 - 0.05*w_2) - Theta_2*(0.0666666666666665*Theta_1*l - 0.0166666666666667*Theta_2*l - 0.05*w_1 + 0.05*w_2) + Theta_3*(0.0166666666666667*Theta_1*l - 0.0666666666666667*Theta_2*l + 0.05*w_1 - 0.05*w_2) - u_1 + 2*u_2 - u_3) + (w_1 - 2*w_2 + w_3)*(-0.05*Theta_1*l - 0.05*Theta_2*l + 0.6*w_1 - 0.6*w_2))/l**2\n",
      "f_53 =  0.1*(-0.0357142857143344*A_xx*Theta_1**3*l**3 + 0.142857142857338*A_xx*Theta_1**2*Theta_2*l**3 - 0.0357142857143344*A_xx*Theta_1**2*Theta_3*l**3 - 1.28571428571433*A_xx*Theta_1**2*l**2*w_1 + 1.71428571428578*A_xx*Theta_1**2*l**2*w_2 - 0.428571428571445*A_xx*Theta_1**2*l**2*w_3 + 0.0357142857143344*A_xx*Theta_1*Theta_2**2*l**3 - 0.0714285714286689*A_xx*Theta_1*Theta_2*Theta_3*l**3 + 0.85714285714289*A_xx*Theta_1*Theta_2*l**2*w_1 - 0.85714285714289*A_xx*Theta_1*Theta_2*l**2*w_2 - 1.0*A_xx*Theta_1*l**2*u_1 + 2.0*A_xx*Theta_1*l**2*u_2 - 1.0*A_xx*Theta_1*l**2*u_3 + 3.8571428571413*A_xx*Theta_1*l*w_1**2 - 10.2857142857101*A_xx*Theta_1*l*w_1*w_2 + 2.57142857142753*A_xx*Theta_1*l*w_1*w_3 + 6.42857142856883*A_xx*Theta_1*l*w_2**2 - 2.57142857142753*A_xx*Theta_1*l*w_2*w_3 - 0.0714285714286689*A_xx*Theta_2**3*l**3 + 0.0357142857143344*A_xx*Theta_2**2*Theta_3*l**3 - 1.28571428571433*A_xx*Theta_2**2*l**2*w_1 + 1.71428571428578*A_xx*Theta_2**2*l**2*w_2 - 0.428571428571445*A_xx*Theta_2**2*l**2*w_3 + 0.85714285714289*A_xx*Theta_2*Theta_3*l**2*w_1 - 0.85714285714289*A_xx*Theta_2*Theta_3*l**2*w_2 - 1.0*A_xx*Theta_2*l**2*u_1 + 2.0*A_xx*Theta_2*l**2*u_2 - 1.0*A_xx*Theta_2*l**2*u_3 + 2.57142857142924*A_xx*Theta_2*l*w_1**2 - 7.71428571428714*A_xx*Theta_2*l*w_1*w_2 + 2.57142857142867*A_xx*Theta_2*l*w_1*w_3 + 5.14285714285791*A_xx*Theta_2*l*w_2**2 - 2.57142857142867*A_xx*Theta_2*l*w_2*w_3 - 1.28571428571433*A_xx*Theta_3*l*w_1**2 + 2.57142857142867*A_xx*Theta_3*l*w_1*w_2 - 1.28571428571433*A_xx*Theta_3*l*w_2**2 + 12.0*A_xx*l*u_1*w_1 - 12.0*A_xx*l*u_1*w_2 - 24.0*A_xx*l*u_2*w_1 + 24.0*A_xx*l*u_2*w_2 + 12.0*A_xx*l*u_3*w_1 - 12.0*A_xx*l*u_3*w_2 - 10.2857142857147*A_xx*w_1**3 + 41.1428571428587*A_xx*w_1**2*w_2 - 10.2857142857147*A_xx*w_1**2*w_3 - 51.4285714285734*A_xx*w_1*w_2**2 + 20.5714285714294*A_xx*w_1*w_2*w_3 + 20.5714285714294*A_xx*w_2**3 - 10.2857142857147*A_xx*w_2**2*w_3 + 60.0*D_xx*Theta_1*l - 60.0*D_xx*Theta_3*l - 120.0*D_xx*w_1 + 240.0*D_xx*w_2 - 120.0*D_xx*w_3)/l**3\n",
      "f_64 =  -0.00357142857143344*A_xx*Theta_1**3*l + 0.0357142857143027*A_xx*Theta_1**2*Theta_2*l - 0.00357142857143344*A_xx*Theta_1**2*Theta_3*l - 0.0107142857143003*A_xx*Theta_1**2*w_1 + 0.0142857142857338*A_xx*Theta_1**2*w_2 - 0.00357142857143344*A_xx*Theta_1**2*w_3 - 0.0178571428571459*A_xx*Theta_1*Theta_2**2*l + 0.00476190476191118*A_xx*Theta_1*Theta_2*Theta_3*l - 0.0142857142857196*A_xx*Theta_1*Theta_2*w_1 + 0.00714285714285268*A_xx*Theta_1*Theta_2*w_2 + 0.00714285714286689*A_xx*Theta_1*Theta_2*w_3 - 0.00714285714286689*A_xx*Theta_1*Theta_3*w_1 + 0.00714285714286689*A_xx*Theta_1*Theta_3*w_2 + 0.0333333333333333*A_xx*Theta_1*u_1 - 0.166666666666667*A_xx*Theta_1*u_2 + 0.133333333333333*A_xx*Theta_1*u_3 + 0.085714285714289*A_xx*Theta_1*w_1*w_2/l - 0.085714285714289*A_xx*Theta_1*w_1*w_3/l - 0.085714285714289*A_xx*Theta_1*w_2**2/l + 0.085714285714289*A_xx*Theta_1*w_2*w_3/l + 0.0309523809523804*A_xx*Theta_2**3*l - 0.00357142857143344*A_xx*Theta_2**2*Theta_3*l + 0.00357142857142634*A_xx*Theta_2**2*w_1 - 0.00714285714285978*A_xx*Theta_2**2*w_2 + 0.00357142857143344*A_xx*Theta_2**2*w_3 - 0.00714285714283847*A_xx*Theta_2*Theta_3*w_1 + 0.00714285714283847*A_xx*Theta_2*Theta_3*w_2 - 0.133333333333333*A_xx*Theta_2*u_1 + 0.166666666666667*A_xx*Theta_2*u_2 - 0.0333333333333333*A_xx*Theta_2*u_3 + 0.171428571428573*A_xx*Theta_2*w_1**2/l - 0.342857142857145*A_xx*Theta_2*w_1*w_2/l + 0.171428571428573*A_xx*Theta_2*w_2**2/l + 0.1*A_xx*u_1*w_1/l - 0.1*A_xx*u_1*w_2/l - 0.1*A_xx*u_3*w_1/l + 0.1*A_xx*u_3*w_2/l - 0.128571428571433*A_xx*w_1**3/l**2 + 0.257142857142924*A_xx*w_1**2*w_2/l**2 + 0.128571428571377*A_xx*w_1**2*w_3/l**2 - 0.128571428571547*A_xx*w_1*w_2**2/l**2 - 0.257142857142753*A_xx*w_1*w_2*w_3/l**2 + 5.6843418860808e-14*A_xx*w_2**3/l**2 + 0.128571428571377*A_xx*w_2**2*w_3/l**2 + 2.0*D_xx*Theta_1/l + 8.0*D_xx*Theta_2/l + 2.0*D_xx*Theta_3/l - 6.0*D_xx*w_1/l**2 + 6.0*D_xx*w_3/l**2\n"
     ]
    }
   ],
   "source": [
    "print(\"f_1 = \", simplify(f_1))\n",
    "print(\"f_2 = \", simplify(f_2))\n",
    "print(\"f_3 = \", simplify(f_3))\n",
    "print(\"f_4 = \", simplify(f_4))\n",
    "print(\"f_5 = \", simplify(f_5))\n",
    "print(\"f_6 = \", simplify(f_6))\n",
    "print(\"f_21 = \", simplify(f_21))\n",
    "print(\"f_53 = \", simplify(f_53))\n",
    "print(\"f_64 = \", simplify(f_64))"
   ]
  }
 ],
 "metadata": {
  "kernelspec": {
   "display_name": "continuum_robot",
   "language": "python",
   "name": "python3"
  },
  "language_info": {
   "codemirror_mode": {
    "name": "ipython",
    "version": 3
   },
   "file_extension": ".py",
   "mimetype": "text/x-python",
   "name": "python",
   "nbconvert_exporter": "python",
   "pygments_lexer": "ipython3",
   "version": "3.10.16"
  }
 },
 "nbformat": 4,
 "nbformat_minor": 5
}

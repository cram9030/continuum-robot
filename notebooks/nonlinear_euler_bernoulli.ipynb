{
 "cells": [
  {
   "cell_type": "code",
   "execution_count": 50,
   "id": "1ca41949",
   "metadata": {},
   "outputs": [],
   "source": [
    "import sympy as sp\n",
    "from sympy import simplify\n",
    "\n",
    "x = sp.Symbol(\"x\")\n",
    "l = sp.Symbol(\"l\")\n",
    "A_xx = sp.Symbol(\"A_xx\")\n",
    "D_xx = sp.Symbol(\"D_xx\")\n",
    "u_1 = sp.Symbol(\"u_1\")\n",
    "u_2 = sp.Symbol(\"u_2\")\n",
    "w_1 = sp.Symbol(\"w_1\")\n",
    "w_2 = sp.Symbol(\"w_2\")\n",
    "Theta_1 = sp.Symbol(\"Theta_1\")\n",
    "Theta_2 = sp.Symbol(\"Theta_2\")\n",
    "\n",
    "psi_1 = 1-x/l\n",
    "psi_2 = x/l\n",
    "\n",
    "# Hermite cubic shape functions\n",
    "phi_1 = 1-3*(x/l)**2+2*(x/l)**3\n",
    "phi_2 = -l*(x/l)*(1-(x/l))**2\n",
    "phi_3 = 3*(x/l)**2-2*(x/l)**3\n",
    "phi_4 = -l*(x/l)*((x/l)**2-x/l)\n",
    "\n",
    "w = phi_1*w_1 + phi_2*Theta_1 + phi_3*w_2 + phi_4*Theta_2\n",
    "dwdx = sp.diff(w, x)"
   ]
  },
  {
   "cell_type": "code",
   "execution_count": 51,
   "id": "f5eb221f",
   "metadata": {},
   "outputs": [
    {
     "name": "stdout",
     "output_type": "stream",
     "text": [
      "psi_1 =  1 - x/l\n",
      "psi_2 =  x/l\n",
      "phi_1 =  1 - 3*x**2/l**2 + 2*x**3/l**3\n",
      "phi_2 =  -x*(1 - x/l)**2\n",
      "phi_3 =  3*x**2/l**2 - 2*x**3/l**3\n",
      "phi_4 =  -x*(-x/l + x**2/l**2)\n",
      "w =  -Theta_1*x*(1 - x/l)**2 - Theta_2*x*(-x/l + x**2/l**2) + w_1*(1 - 3*x**2/l**2 + 2*x**3/l**3) + w_2*(3*x**2/l**2 - 2*x**3/l**3)\n",
      "dwdx =  -Theta_1*(1 - x/l)**2 + 2*Theta_1*x*(1 - x/l)/l - Theta_2*x*(-1/l + 2*x/l**2) - Theta_2*(-x/l + x**2/l**2) + w_1*(-6*x/l**2 + 6*x**2/l**3) + w_2*(6*x/l**2 - 6*x**2/l**3)\n"
     ]
    }
   ],
   "source": [
    "print(\"psi_1 = \", psi_1)\n",
    "print(\"psi_2 = \", psi_2)\n",
    "print(\"phi_1 = \", phi_1)\n",
    "print(\"phi_2 = \", phi_2)\n",
    "print(\"phi_3 = \", phi_3)\n",
    "print(\"phi_4 = \", phi_4)\n",
    "print(\"w = \", w)\n",
    "print(\"dwdx = \", dwdx)"
   ]
  },
  {
   "cell_type": "code",
   "execution_count": 24,
   "id": "5e4877a3",
   "metadata": {},
   "outputs": [],
   "source": [
    "dpsi_1dt = psi_1.diff(x)\n",
    "dpsi_2dt = psi_2.diff(x)\n",
    "dphi_1dt = phi_1.diff(x)\n",
    "dphi_2dt = phi_2.diff(x)\n",
    "dphi_3dt = phi_3.diff(x)\n",
    "dphi_4dt = phi_4.diff(x)"
   ]
  },
  {
   "cell_type": "code",
   "execution_count": 34,
   "id": "49886f01",
   "metadata": {},
   "outputs": [
    {
     "name": "stdout",
     "output_type": "stream",
     "text": [
      "dpsi_1dt =  -1/l\n",
      "dpsi_2dt =  1/l\n",
      "dphi_1dt =  -6*x/l**2 + 6*x**2/l**3\n",
      "dphi_2dt =  -(1 - x/l)**2 + 2*x*(1 - x/l)/l\n",
      "dphi_3dt =  6*x/l**2 - 6*x**2/l**3\n",
      "dphi_4dt =  x*(2*l - 3*x)/l**2\n"
     ]
    }
   ],
   "source": [
    "print(\"dpsi_1dt = \", dpsi_1dt)\n",
    "print(\"dpsi_2dt = \", dpsi_2dt)\n",
    "print(\"dphi_1dt = \", dphi_1dt)\n",
    "print(\"dphi_2dt = \", dphi_2dt)\n",
    "print(\"dphi_3dt = \", dphi_3dt)\n",
    "print(\"dphi_4dt = \", simplify(dphi_4dt))"
   ]
  },
  {
   "cell_type": "code",
   "execution_count": 40,
   "id": "a5f2f093",
   "metadata": {},
   "outputs": [],
   "source": [
    "d2psi_1dt2 = dpsi_1dt.diff(x)\n",
    "d2psi_2dt2 = dpsi_2dt.diff(x)\n",
    "d2phi_1dt2 = dphi_1dt.diff(x)\n",
    "d2phi_2dt2 = dphi_2dt.diff(x)\n",
    "d2phi_3dt2 = dphi_3dt.diff(x)\n",
    "d2phi_4dt2 = dphi_4dt.diff(x)"
   ]
  },
  {
   "cell_type": "code",
   "execution_count": 42,
   "id": "ca5eba8d",
   "metadata": {},
   "outputs": [
    {
     "name": "stdout",
     "output_type": "stream",
     "text": [
      "d2phi_1dt2 =  -6/l**2 + 12*x/l**3\n",
      "d2phi_2dt2 =  4*(1 - x/l)/l - 2*x/l**2\n",
      "d2phi_3dt2 =  6/l**2 - 12*x/l**3\n",
      "d2phi_4dt2 =  2/l - 6*x/l**2\n"
     ]
    }
   ],
   "source": [
    "print(\"d2phi_1dt2 = \", d2phi_1dt2)\n",
    "print(\"d2phi_2dt2 = \", d2phi_2dt2)\n",
    "print(\"d2phi_3dt2 = \", d2phi_3dt2)\n",
    "print(\"d2phi_4dt2 = \", d2phi_4dt2)"
   ]
  },
  {
   "cell_type": "code",
   "execution_count": 26,
   "id": "8725d7be",
   "metadata": {},
   "outputs": [],
   "source": [
    "K11_11 = sp.integrate(A_xx*dpsi_1dt**2, (x, 0, l))\n",
    "K11_12 = sp.integrate(A_xx*dpsi_1dt*dpsi_2dt, (x, 0, l))\n",
    "K11_21 = sp.integrate(A_xx*dpsi_2dt*dpsi_1dt, (x, 0, l))\n",
    "K11_22 = sp.integrate(A_xx*dpsi_2dt**2, (x, 0, l))"
   ]
  },
  {
   "cell_type": "code",
   "execution_count": 27,
   "id": "684733c6",
   "metadata": {},
   "outputs": [
    {
     "name": "stdout",
     "output_type": "stream",
     "text": [
      "K11_11 =  A_xx/l\n",
      "K11_12 =  -A_xx/l\n",
      "K11_21 =  -A_xx/l\n",
      "K11_22 =  A_xx/l\n"
     ]
    }
   ],
   "source": [
    "print(\"K11_11 = \", K11_11)\n",
    "print(\"K11_12 = \", K11_12)\n",
    "print(\"K11_21 = \", K11_21)\n",
    "print(\"K11_22 = \", K11_22)"
   ]
  },
  {
   "cell_type": "code",
   "execution_count": 35,
   "id": "9bc8b1d9",
   "metadata": {},
   "outputs": [],
   "source": [
    "K12_11 = sp.integrate(0.5*A_xx*Theta*dpsi_1dt*dphi_1dt, (x, 0, l))\n",
    "K12_12 = sp.integrate(0.5*A_xx*Theta*dpsi_1dt*dphi_2dt, (x, 0, l))\n",
    "K12_13 = sp.integrate(0.5*A_xx*Theta*dpsi_1dt*dphi_3dt, (x, 0, l))\n",
    "K12_14 = sp.integrate(0.5*A_xx*Theta*dpsi_1dt*dphi_4dt, (x, 0, l))\n",
    "K12_21 = sp.integrate(0.5*A_xx*Theta*dpsi_2dt*dphi_1dt, (x, 0, l))\n",
    "K12_22 = sp.integrate(0.5*A_xx*Theta*dpsi_2dt*dphi_2dt, (x, 0, l))\n",
    "K12_23 = sp.integrate(0.5*A_xx*Theta*dpsi_2dt*dphi_3dt, (x, 0, l))\n",
    "K12_24 = sp.integrate(0.5*A_xx*Theta*dpsi_2dt*dphi_4dt, (x, 0, l))"
   ]
  },
  {
   "cell_type": "code",
   "execution_count": 36,
   "id": "7058e584",
   "metadata": {},
   "outputs": [
    {
     "name": "stdout",
     "output_type": "stream",
     "text": [
      "K12_11 =  0.5*A_xx*Theta/l\n",
      "K12_12 =  0\n",
      "K12_13 =  -0.5*A_xx*Theta/l\n",
      "K12_14 =  0\n",
      "K12_21 =  -0.5*A_xx*Theta/l\n",
      "K12_22 =  0\n",
      "K12_23 =  0.5*A_xx*Theta/l\n",
      "K12_24 =  0\n"
     ]
    }
   ],
   "source": [
    "print(\"K12_11 = \", K12_11)\n",
    "print(\"K12_12 = \", K12_12)\n",
    "print(\"K12_13 = \", K12_13)\n",
    "print(\"K12_14 = \", K12_14)\n",
    "print(\"K12_21 = \", K12_21)\n",
    "print(\"K12_22 = \", K12_22)\n",
    "print(\"K12_23 = \", K12_23)\n",
    "print(\"K12_24 = \", K12_24)"
   ]
  },
  {
   "cell_type": "code",
   "execution_count": 37,
   "id": "7c5070f0",
   "metadata": {},
   "outputs": [],
   "source": [
    "K21_11 = sp.integrate(A_xx*Theta*dphi_1dt*dpsi_1dt, (x, 0, l))\n",
    "K21_21 = sp.integrate(A_xx*Theta*dphi_2dt*dpsi_1dt, (x, 0, l))\n",
    "K21_31 = sp.integrate(A_xx*Theta*dphi_3dt*dpsi_1dt, (x, 0, l))\n",
    "K21_41 = sp.integrate(A_xx*Theta*dphi_4dt*dpsi_1dt, (x, 0, l))\n",
    "K21_12 = sp.integrate(A_xx*Theta*dphi_1dt*dpsi_2dt, (x, 0, l))\n",
    "K21_22 = sp.integrate(A_xx*Theta*dphi_2dt*dpsi_2dt, (x, 0, l))\n",
    "K21_32 = sp.integrate(A_xx*Theta*dphi_3dt*dpsi_2dt, (x, 0, l))\n",
    "K21_42 = sp.integrate(A_xx*Theta*dphi_4dt*dpsi_2dt, (x, 0, l))"
   ]
  },
  {
   "cell_type": "code",
   "execution_count": 38,
   "id": "cbc7b036",
   "metadata": {},
   "outputs": [
    {
     "name": "stdout",
     "output_type": "stream",
     "text": [
      "K21_11 =  A_xx*Theta/l\n",
      "K21_21 =  0\n",
      "K21_31 =  -A_xx*Theta/l\n",
      "K21_41 =  0\n",
      "K21_22 =  0\n",
      "K21_32 =  A_xx*Theta/l\n",
      "K21_42 =  0\n"
     ]
    }
   ],
   "source": [
    "print(\"K21_11 = \", K21_11)\n",
    "print(\"K21_21 = \", K21_21)\n",
    "print(\"K21_31 = \", K21_31)\n",
    "print(\"K21_41 = \", K21_41)\n",
    "print(\"K21_22 = \", K21_22)\n",
    "print(\"K21_32 = \", K21_32)\n",
    "print(\"K21_42 = \", K21_42)"
   ]
  },
  {
   "cell_type": "code",
   "execution_count": 46,
   "id": "682e41d6",
   "metadata": {},
   "outputs": [],
   "source": [
    "K22_11 = sp.integrate(D_xx*d2phi_1dt2*d2phi_1dt2, (x, 0, l))+0.5*sp.integrate(A_xx*Theta**2*dphi_1dt*dphi_1dt, (x, 0, l))\n",
    "K22_12 = sp.integrate(D_xx*d2phi_1dt2*d2phi_2dt2, (x, 0, l))+0.5*sp.integrate(A_xx*Theta**2*dphi_1dt*dphi_2dt, (x, 0, l))\n",
    "K22_13 = sp.integrate(D_xx*d2phi_1dt2*d2phi_3dt2, (x, 0, l))+0.5*sp.integrate(A_xx*Theta**2*dphi_1dt*dphi_3dt, (x, 0, l))\n",
    "K22_14 = sp.integrate(D_xx*d2phi_1dt2*d2phi_4dt2, (x, 0, l))+0.5*sp.integrate(A_xx*Theta**2*dphi_1dt*dphi_4dt, (x, 0, l))\n",
    "K22_21 = sp.integrate(D_xx*d2phi_2dt2*d2phi_1dt2, (x, 0, l))+0.5*sp.integrate(A_xx*Theta**2*dphi_2dt*dphi_1dt, (x, 0, l))\n",
    "K22_22 = sp.integrate(D_xx*d2phi_2dt2*d2phi_2dt2, (x, 0, l))+0.5*sp.integrate(A_xx*Theta**2*dphi_2dt*dphi_2dt, (x, 0, l))\n",
    "K22_23 = sp.integrate(D_xx*d2phi_2dt2*d2phi_3dt2, (x, 0, l))+0.5*sp.integrate(A_xx*Theta**2*dphi_2dt*dphi_3dt, (x, 0, l))\n",
    "K22_24 = sp.integrate(D_xx*d2phi_2dt2*d2phi_4dt2, (x, 0, l))+0.5*sp.integrate(A_xx*Theta**2*dphi_2dt*dphi_4dt, (x, 0, l))\n",
    "K22_31 = sp.integrate(D_xx*d2phi_3dt2*d2phi_1dt2, (x, 0, l))+0.5*sp.integrate(A_xx*Theta**2*dphi_3dt*dphi_1dt, (x, 0, l))\n",
    "K22_32 = sp.integrate(D_xx*d2phi_3dt2*d2phi_2dt2, (x, 0, l))+0.5*sp.integrate(A_xx*Theta**2*dphi_3dt*dphi_2dt, (x, 0, l))\n",
    "K22_33 = sp.integrate(D_xx*d2phi_3dt2*d2phi_3dt2, (x, 0, l))+0.5*sp.integrate(A_xx*Theta**2*dphi_3dt*dphi_3dt, (x, 0, l))\n",
    "K22_34 = sp.integrate(D_xx*d2phi_3dt2*d2phi_4dt2, (x, 0, l))+0.5*sp.integrate(A_xx*Theta**2*dphi_3dt*dphi_4dt, (x, 0, l))\n",
    "K22_41 = sp.integrate(D_xx*d2phi_4dt2*d2phi_1dt2, (x, 0, l))+0.5*sp.integrate(A_xx*Theta**2*dphi_4dt*dphi_1dt, (x, 0, l))\n",
    "K22_42 = sp.integrate(D_xx*d2phi_4dt2*d2phi_2dt2, (x, 0, l))+0.5*sp.integrate(A_xx*Theta**2*dphi_4dt*dphi_2dt, (x, 0, l))\n",
    "K22_43 = sp.integrate(D_xx*d2phi_4dt2*d2phi_3dt2, (x, 0, l))+0.5*sp.integrate(A_xx*Theta**2*dphi_4dt*dphi_3dt, (x, 0, l))\n",
    "K22_44 = sp.integrate(D_xx*d2phi_4dt2*d2phi_4dt2, (x, 0, l))+0.5*sp.integrate(A_xx*Theta**2*dphi_4dt*dphi_4dt, (x, 0, l))"
   ]
  },
  {
   "cell_type": "code",
   "execution_count": 47,
   "id": "05248314",
   "metadata": {},
   "outputs": [
    {
     "name": "stdout",
     "output_type": "stream",
     "text": [
      "K22_11 =  0.6*A_xx*Theta**2/l + 12*D_xx/l**3\n",
      "K22_12 =  -0.05*A_xx*Theta**2 - 6*D_xx/l**2\n",
      "K22_13 =  -0.6*A_xx*Theta**2/l - 12*D_xx/l**3\n",
      "K22_14 =  -0.05*A_xx*Theta**2 - 6*D_xx/l**2\n",
      "K22_21 =  -0.05*A_xx*Theta**2 - 6*D_xx/l**2\n",
      "K22_22 =  0.0666666666666667*A_xx*Theta**2*l + 4*D_xx/l\n",
      "K22_23 =  0.05*A_xx*Theta**2 + 6*D_xx/l**2\n",
      "K22_24 =  -0.0166666666666667*A_xx*Theta**2*l + 2*D_xx/l\n",
      "K22_31 =  -0.6*A_xx*Theta**2/l - 12*D_xx/l**3\n",
      "K22_32 =  0.05*A_xx*Theta**2 + 6*D_xx/l**2\n",
      "K22_33 =  0.6*A_xx*Theta**2/l + 12*D_xx/l**3\n",
      "K22_34 =  0.05*A_xx*Theta**2 + 6*D_xx/l**2\n",
      "K22_41 =  -0.05*A_xx*Theta**2 - 6*D_xx/l**2\n",
      "K22_42 =  -0.0166666666666667*A_xx*Theta**2*l + 2*D_xx/l\n",
      "K22_43 =  0.05*A_xx*Theta**2 + 6*D_xx/l**2\n",
      "K22_44 =  0.0666666666666667*A_xx*Theta**2*l + 4*D_xx/l\n"
     ]
    }
   ],
   "source": [
    "print(\"K22_11 = \", K22_11)\n",
    "print(\"K22_12 = \", K22_12)\n",
    "print(\"K22_13 = \", K22_13)\n",
    "print(\"K22_14 = \", K22_14)\n",
    "print(\"K22_21 = \", K22_21)\n",
    "print(\"K22_22 = \", K22_22)\n",
    "print(\"K22_23 = \", K22_23)\n",
    "print(\"K22_24 = \", K22_24)\n",
    "print(\"K22_31 = \", K22_31)\n",
    "print(\"K22_32 = \", K22_32)\n",
    "print(\"K22_33 = \", K22_33)\n",
    "print(\"K22_34 = \", K22_34)\n",
    "print(\"K22_41 = \", K22_41)\n",
    "print(\"K22_42 = \", K22_42)\n",
    "print(\"K22_43 = \", K22_43)\n",
    "print(\"K22_44 = \", K22_44)"
   ]
  },
  {
   "cell_type": "code",
   "execution_count": 48,
   "id": "6447dd2a",
   "metadata": {},
   "outputs": [],
   "source": [
    "f_1 = K11_11*u_1+K12_11*u_2+K12_11*w_1+K12_12*Theta_1+K12_13*w_2+K12_14*Theta_2\n",
    "f_2 = K11_21*u_1+K11_22*u_2+K12_21*w_1+K12_22*Theta_1+K12_23*w_2+K12_24*Theta_2\n",
    "f_3 = K21_11*u_1+K21_21*u_2+K22_11*w_1+K22_12*Theta_1+K22_13*w_2+K22_14*Theta_2\n",
    "f_4 = K21_21*u_1+K21_22*u_2+K22_21*w_1+K22_22*Theta_1+K22_23*w_2+K22_24*Theta_2\n",
    "f_5 = K21_31*u_1+K21_32*u_2+K22_31*w_1+K22_32*Theta_1+K22_33*w_2+K22_34*Theta_2\n",
    "f_6 = K21_41*u_1+K21_42*u_2+K22_41*w_1+K22_42*Theta_1+K22_43*w_2+K22_44*Theta_2"
   ]
  },
  {
   "cell_type": "code",
   "execution_count": 49,
   "id": "26383097",
   "metadata": {},
   "outputs": [
    {
     "name": "stdout",
     "output_type": "stream",
     "text": [
      "f_1 =  0.5*A_xx*Theta*u_2/l + 0.5*A_xx*Theta*w_1/l - 0.5*A_xx*Theta*w_2/l + A_xx*u_1/l\n",
      "f_2 =  -0.5*A_xx*Theta*w_1/l + 0.5*A_xx*Theta*w_2/l - A_xx*u_1/l + A_xx*u_2/l\n",
      "f_3 =  A_xx*Theta*u_1/l + Theta_1*(-0.05*A_xx*Theta**2 - 6*D_xx/l**2) + Theta_2*(-0.05*A_xx*Theta**2 - 6*D_xx/l**2) + w_1*(0.6*A_xx*Theta**2/l + 12*D_xx/l**3) + w_2*(-0.6*A_xx*Theta**2/l - 12*D_xx/l**3)\n",
      "f_4 =  Theta_1*(0.0666666666666667*A_xx*Theta**2*l + 4*D_xx/l) + Theta_2*(-0.0166666666666667*A_xx*Theta**2*l + 2*D_xx/l) + w_1*(-0.05*A_xx*Theta**2 - 6*D_xx/l**2) + w_2*(0.05*A_xx*Theta**2 + 6*D_xx/l**2)\n",
      "f_5 =  -A_xx*Theta*u_1/l + A_xx*Theta*u_2/l + Theta_1*(0.05*A_xx*Theta**2 + 6*D_xx/l**2) + Theta_2*(0.05*A_xx*Theta**2 + 6*D_xx/l**2) + w_1*(-0.6*A_xx*Theta**2/l - 12*D_xx/l**3) + w_2*(0.6*A_xx*Theta**2/l + 12*D_xx/l**3)\n",
      "f_6 =  Theta_1*(-0.0166666666666667*A_xx*Theta**2*l + 2*D_xx/l) + Theta_2*(0.0666666666666667*A_xx*Theta**2*l + 4*D_xx/l) + w_1*(-0.05*A_xx*Theta**2 - 6*D_xx/l**2) + w_2*(0.05*A_xx*Theta**2 + 6*D_xx/l**2)\n"
     ]
    }
   ],
   "source": [
    "print(\"f_1 = \", f_1)\n",
    "print(\"f_2 = \", f_2)\n",
    "print(\"f_3 = \", f_3)\n",
    "print(\"f_4 = \", f_4)\n",
    "print(\"f_5 = \", f_5)\n",
    "print(\"f_6 = \", f_6)"
   ]
  }
 ],
 "metadata": {
  "kernelspec": {
   "display_name": "continuum_robot",
   "language": "python",
   "name": "python3"
  },
  "language_info": {
   "codemirror_mode": {
    "name": "ipython",
    "version": 3
   },
   "file_extension": ".py",
   "mimetype": "text/x-python",
   "name": "python",
   "nbconvert_exporter": "python",
   "pygments_lexer": "ipython3",
   "version": "3.10.16"
  }
 },
 "nbformat": 4,
 "nbformat_minor": 5
}
